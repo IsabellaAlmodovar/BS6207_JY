{
 "cells": [
  {
   "cell_type": "markdown",
   "metadata": {},
   "source": [
    "## BS6207 Assignment3\n",
    "\n",
    "Given a 32x32 pixels, 3 channels input. Fill the pixel values with torch.randn( . . . ) For each pytorch functions in the list,\n",
    "\n",
    "Initialise the weights with uniform random numbers r\n",
    "\n",
    "Call the functions and get the output tensors - torch_out\n",
    "\n",
    "Implement these functions from scratch, without using any neural network libraries. Use linear algebra libraries in python is ok. Output your tensors as — my_out\n",
    "\n",
    "Compare and show that torch_out and my_out are equal up to small numerical errors"
   ]
  },
  {
   "cell_type": "code",
   "execution_count": null,
   "metadata": {},
   "outputs": [],
   "source": [
    "import torch\n",
    "torch.manual_seed(0)\n",
    "\n",
    "#initiate the input as Batch_size, Channel, height, width 1*3*32*32\n",
    "\n",
    "inputs = torch.randn(1,3, 32, 32)\n",
    "inputs.shape\n",
    "input_np = inputs.numpy()\n",
    "input_np.shape"
   ]
  },
  {
   "cell_type": "markdown",
   "metadata": {},
   "source": [
    "### 1. Max Pooling\n",
    "\n",
    "Max pooling is a sample-based discretization process. The objective is to down-sample an input representation (image, hidden-layer output matrix, etc.), reducing its dimensionality and allowing for assumptions to be made about features contained in the sub-regions binned.\n",
    "\n",
    "#### For what?\n",
    "\n",
    "This is done to in part to help over-fitting by providing an abstracted form of the representation. \n",
    "\n",
    "#### How?\n",
    "take the maximum of a window in the input moving with step  stride.\n",
    "\n",
    "#### parameters:\n",
    "kernel_size: int, the size of the window\n",
    "\n",
    "stride: int, the stride of the window\n",
    "        \n",
    "padding: int, implicit zero paddings on both sides of the input\n"
   ]
  },
  {
   "cell_type": "code",
   "execution_count": 8,
   "metadata": {},
   "outputs": [
    {
     "data": {
      "text/plain": [
       "(1, 3, 31, 31)"
      ]
     },
     "execution_count": 8,
     "metadata": {},
     "output_type": "execute_result"
    }
   ],
   "source": [
    "MaxPool=torch.nn.MaxPool2d(kernel_size=2, stride=1, padding=0, dilation=1, return_indices=False, ceil_mode=False)\n",
    "torch_out=MaxPool(inputs)\n",
    "torch_out = torch_out.numpy()\n",
    "torch_out.shape"
   ]
  },
  {
   "cell_type": "markdown",
   "metadata": {},
   "source": [
    "#### My implemention of max pooling"
   ]
  },
  {
   "cell_type": "code",
   "execution_count": 10,
   "metadata": {},
   "outputs": [
    {
     "data": {
      "text/plain": [
       "(1, 3, 31, 31)"
      ]
     },
     "execution_count": 10,
     "metadata": {},
     "output_type": "execute_result"
    }
   ],
   "source": [
    "import numpy as np\n",
    "from numpy.lib.stride_tricks import as_strided\n",
    "\n",
    "def pool2d(img, kernel_size, stride, padding, pool_mode='max'):\n",
    "    '''\n",
    "    2D Pooling\n",
    "    Parameters:\n",
    "        A: input 2D array\n",
    "        kernel_size: int, the size of the window\n",
    "        stride: int, the stride of the window\n",
    "        padding: int, implicit zero paddings on both sides of the input\n",
    "        pool_mode: string, 'max' or 'avg'\n",
    "    '''\n",
    "    # Padding\n",
    "    \n",
    "\n",
    "    # Window view of A\n",
    "    \n",
    "    my_out = np.empty((1,3,(img.shape[2] - kernel_size)//stride + 1,\n",
    "                    (img.shape[3] - kernel_size)//stride + 1), dtype = float)\n",
    "    \n",
    "    for batch in img:\n",
    "        i = 0\n",
    "        for A in batch:\n",
    "            A = np.pad(A, padding, mode='constant')\n",
    "            \n",
    "            output_shape = ((A.shape[0] - kernel_size)//stride + 1,\n",
    "                    (A.shape[1] - kernel_size)//stride + 1)\n",
    "            kernel_sizes = (kernel_size, kernel_size)\n",
    "            A_w = as_strided(A, shape = output_shape + kernel_sizes, \n",
    "                        strides = (stride*A.strides[0],\n",
    "                                   stride*A.strides[1]) + A.strides)\n",
    "            A_w = A_w.reshape(-1, *kernel_sizes)\n",
    "\n",
    "    # Return the result of pooling\n",
    "            if pool_mode == 'max':\n",
    "                my_out[0,i] = A_w.max(axis=(1,2)).reshape(output_shape)\n",
    "            elif pool_mode == 'avg':\n",
    "                my_out[0,i] =  A_w.mean(axis=(1,2)).reshape(output_shape)\n",
    "            i+=1\n",
    "    return my_out\n",
    "\n",
    "my_out = pool2d(input_np, kernel_size=2, stride=1, padding=0, pool_mode='max')\n",
    "my_out.shape"
   ]
  },
  {
   "cell_type": "markdown",
   "metadata": {},
   "source": [
    "#### Are torch_out and my_out of max pooling equal?"
   ]
  },
  {
   "cell_type": "code",
   "execution_count": 11,
   "metadata": {},
   "outputs": [
    {
     "data": {
      "text/plain": [
       "True"
      ]
     },
     "execution_count": 11,
     "metadata": {},
     "output_type": "execute_result"
    }
   ],
   "source": [
    "(torch_out == my_out).all()"
   ]
  },
  {
   "cell_type": "markdown",
   "metadata": {},
   "source": [
    "### 2. Average pooling\n",
    "\n",
    "Average pooling is same as max pooling except it takes the average rather than the max within the window.\n",
    "\n",
    "#### For what?\n",
    "\n",
    "This is done to in part to help over-fitting by providing an abstracted form of the representation, which conserve more background information.\n",
    "\n",
    "#### How?\n",
    "take the average of a window in the input moving with step  stride.\n",
    "\n",
    "#### parameters:\n",
    "kernel_size: int, the size of the window\n",
    "\n",
    "stride: int, the stride of the window\n",
    "        \n",
    "padding: int, implicit zero paddings on both sides of the input"
   ]
  },
  {
   "cell_type": "code",
   "execution_count": 7,
   "metadata": {},
   "outputs": [
    {
     "data": {
      "text/plain": [
       "(1, 3, 31, 31)"
      ]
     },
     "execution_count": 7,
     "metadata": {},
     "output_type": "execute_result"
    }
   ],
   "source": [
    "AvgPool=torch.nn.AvgPool2d(kernel_size=2, stride=1, padding=0,ceil_mode=False, count_include_pad=True,divisor_override=None)\n",
    "torch_out=AvgPool(inputs)\n",
    "torch_out = torch_out.numpy()\n",
    "torch_out.shape"
   ]
  },
  {
   "cell_type": "markdown",
   "metadata": {},
   "source": [
    "#### My implemention of average pooling"
   ]
  },
  {
   "cell_type": "code",
   "execution_count": 8,
   "metadata": {},
   "outputs": [],
   "source": [
    "import numpy as np\n",
    "from numpy.lib.stride_tricks import as_strided\n",
    "\n",
    "def pool2d(A, kernel_size, stride, padding, pool_mode='max'):\n",
    "    '''\n",
    "    2D Pooling\n",
    "\n",
    "    Parameters:\n",
    "        A: input 2D array\n",
    "        kernel_size: int, the size of the window\n",
    "        stride: int, the stride of the window\n",
    "        padding: int, implicit zero paddings on both sides of the input\n",
    "        pool_mode: string, 'max' or 'avg'\n",
    "    '''\n",
    "    # Padding\n",
    "    A = np.pad(A, padding, mode='constant')\n",
    "\n",
    "    # Window view of A\n",
    "    output_shape = ((A.shape[0] - kernel_size)//stride + 1,\n",
    "                    (A.shape[1] - kernel_size)//stride + 1)\n",
    "    kernel_size = (kernel_size, kernel_size)\n",
    "    A_w = as_strided(A, shape = output_shape + kernel_size, \n",
    "                        strides = (stride*A.strides[0],\n",
    "                                   stride*A.strides[1]) + A.strides)\n",
    "    A_w = A_w.reshape(-1, *kernel_size)\n",
    "\n",
    "    # Return the result of pooling\n",
    "    if pool_mode == 'max':\n",
    "        return A_w.max(axis=(1,2)).reshape(output_shape)\n",
    "    elif pool_mode == 'avg':\n",
    "        return A_w.mean(axis=(1,2)).reshape(output_shape)\n",
    "\n",
    "my_out = np.empty((1,3,31,31), dtype = float)\n",
    "for batch in input_np:\n",
    "    i = 0\n",
    "    for channel in batch:\n",
    "        my_out[0,i] =  pool2d(channel, kernel_size=2, stride=1, padding=0, pool_mode='avg')\n",
    "        i+=1"
   ]
  },
  {
   "cell_type": "markdown",
   "metadata": {},
   "source": [
    "#### Are torch_out and my_out of average pooling equal?"
   ]
  },
  {
   "cell_type": "code",
   "execution_count": 9,
   "metadata": {},
   "outputs": [
    {
     "data": {
      "text/plain": [
       "True"
      ]
     },
     "execution_count": 9,
     "metadata": {},
     "output_type": "execute_result"
    }
   ],
   "source": [
    "(torch_out == my_out).all()"
   ]
  },
  {
   "cell_type": "markdown",
   "metadata": {},
   "source": [
    "### 3. Convolutional NN \n",
    "#### How:\n",
    "you start with a kernel, which is simply a small matrix of weights. This kernel “slides” over the 2D input data, performing an elementwise multiplication with the part of the input it is currently on, and then summing up the results into a single output pixel.\n",
    "\n",
    "#### Parameters:\n",
    "Out channels: number of kernel(filter/feature maps)\n",
    "Dilation = 1: the stride within the filter is 1\n",
    "groups = 1:  in_channels and out_channels must both be divisible by 1."
   ]
  },
  {
   "cell_type": "code",
   "execution_count": 260,
   "metadata": {},
   "outputs": [
    {
     "data": {
      "text/plain": [
       "torch.Size([1, 6, 30, 30])"
      ]
     },
     "execution_count": 260,
     "metadata": {},
     "output_type": "execute_result"
    }
   ],
   "source": [
    "#kernel_size=3, stride=1\n",
    "torch.manual_seed(0)\n",
    "Conv=torch.nn.Conv2d(in_channels=3, out_channels=6,kernel_size=3, stride=1, padding=0, dilation=1, groups=1,\n",
    "                     bias=True, padding_mode='zeros')\n",
    "torch_out=Conv(inputs)\n",
    "torch_out.shape"
   ]
  },
  {
   "cell_type": "code",
   "execution_count": 233,
   "metadata": {},
   "outputs": [],
   "source": [
    "weight = Conv.weight.data\n",
    "bias = Conv.bias.data"
   ]
  },
  {
   "cell_type": "code",
   "execution_count": 311,
   "metadata": {},
   "outputs": [
    {
     "data": {
      "text/plain": [
       "torch.Size([1, 6, 30, 30])"
      ]
     },
     "execution_count": 311,
     "metadata": {},
     "output_type": "execute_result"
    }
   ],
   "source": [
    "def conv2d(inputs, weight, bias, stride):\n",
    "    padding = 0\n",
    "    N, C, H, W = inputs.shape\n",
    "    filter_, _, kernel_H, kernel_W = weight.shape\n",
    "    \n",
    "    H_out= 1+(H+2*padding-kernel_H)//stride\n",
    "    W_out= 1+(W+2*padding-kernel_W)//stride\n",
    "    out = torch.zeros(N, filter_, H_out, W_out)\n",
    "    \n",
    "    for batch in range(N):\n",
    "        for filter_i in range(filter_):\n",
    "            for row in range(H_out):\n",
    "                for col in range(W_out):\n",
    "                    out[batch, filter_i, row, col] = torch.sum(inputs[batch, :, row*stride:row*stride + kernel_H, \n",
    "                                                                     col*stride:col*stride + kernel_W] *weight[filter_i, :,:,:]) + bias[filter_i]\n",
    "                    \n",
    "    return out\n",
    "\n",
    "my_out = conv2d(inputs, weight, bias, 1)\n",
    "my_out.shape"
   ]
  },
  {
   "cell_type": "code",
   "execution_count": 262,
   "metadata": {},
   "outputs": [
    {
     "data": {
      "text/plain": [
       "tensor(True)"
      ]
     },
     "execution_count": 262,
     "metadata": {},
     "output_type": "execute_result"
    }
   ],
   "source": [
    "(torch_out - my_out<=0.000001).all()"
   ]
  },
  {
   "attachments": {
    "image.png": {
     "image/png": "[encoded data removed]"
    }
   },
   "cell_type": "markdown",
   "metadata": {},
   "source": [
    "### 4. Conv 2D with Dilation\n",
    "\n",
    "Dilation with different values are shown below, we are taking dilation = 2 here:\n",
    "![image.png](attachment:image.png)"
   ]
  },
  {
   "cell_type": "code",
   "execution_count": 317,
   "metadata": {},
   "outputs": [
    {
     "data": {
      "text/plain": [
       "tensor([[[[-5.4019e-03,  1.7909e-01, -1.0476e-01,  7.4469e-01,  5.9291e-01,\n",
       "            2.9449e-01,  1.0095e+00, -7.7239e-01,  3.8286e-01,  2.2187e-01,\n",
       "           -3.1923e-01, -2.4975e-01],\n",
       "          [ 7.4679e-01,  6.7372e-03, -3.1795e-01, -9.2883e-01,  5.0674e-02,\n",
       "            3.6113e-01,  1.1296e-01,  7.9236e-02, -2.0038e-01,  1.1906e-01,\n",
       "           -1.5462e-01, -3.6292e-01],\n",
       "          [ 5.3563e-01, -3.3586e-01,  3.1869e-01,  7.5129e-01, -7.1287e-02,\n",
       "           -2.6119e-01, -2.1188e-01, -6.8061e-01, -8.6836e-01,  3.2121e-01,\n",
       "           -8.6332e-01,  4.3371e-01],\n",
       "          [ 5.5730e-01,  9.2158e-01,  1.9784e-01, -1.1340e-01,  4.6574e-02,\n",
       "           -6.8409e-01, -5.3939e-01, -4.5286e-02,  1.1033e+00, -5.2885e-01,\n",
       "            9.7801e-01, -1.0700e+00],\n",
       "          [-9.3423e-01,  3.4281e-01, -2.9735e-01,  6.6228e-02, -1.2507e-01,\n",
       "            1.1401e+00, -3.7330e-01, -8.3782e-01, -3.1296e-01, -1.1258e+00,\n",
       "           -5.3248e-01,  9.1912e-01],\n",
       "          [ 9.1617e-01,  3.6093e-01, -7.6088e-01, -9.5140e-01, -7.5126e-01,\n",
       "           -1.0951e+00,  4.7919e-01,  1.6233e-01,  7.1829e-02, -4.7872e-01,\n",
       "           -3.4280e-01,  3.6629e-02],\n",
       "          [-4.5996e-01, -4.3469e-01, -4.5935e-01, -6.9597e-01,  8.5158e-02,\n",
       "            2.7642e-01, -4.1811e-01, -5.9020e-01, -1.3162e-01,  4.2992e-01,\n",
       "            9.0378e-01,  1.1499e+00],\n",
       "          [ 1.6816e+00,  3.7476e-01, -3.3261e-01,  5.8311e-01,  6.2088e-01,\n",
       "           -2.7656e-01, -1.0207e-01,  4.4648e-01, -4.8829e-01,  6.7682e-02,\n",
       "            2.9003e-01, -1.1178e+00],\n",
       "          [ 1.1710e+00, -9.6747e-02, -1.1760e+00, -4.9008e-01, -2.0912e-01,\n",
       "            2.3941e-01, -7.8519e-01,  2.3458e-01,  2.6289e-01,  4.1293e-02,\n",
       "            1.9467e-01,  4.6064e-01],\n",
       "          [-8.3960e-01, -5.7132e-01, -3.9182e-02, -4.3306e-01,  2.0934e-01,\n",
       "           -1.3911e+00, -6.5339e-01,  9.5600e-02,  1.5789e-01,  4.0697e-01,\n",
       "           -3.1297e-01,  6.5731e-02],\n",
       "          [-8.8135e-01, -7.2432e-01, -3.8230e-02,  3.0135e-01, -7.8831e-02,\n",
       "            7.9440e-02,  5.9052e-01,  2.0252e-02,  1.1406e+00, -6.9084e-01,\n",
       "            8.5715e-01,  3.4945e-01],\n",
       "          [-4.3658e-01, -3.4611e-01, -7.7657e-02, -8.0001e-01, -4.6689e-01,\n",
       "            2.1124e-01, -1.8702e-01,  3.8488e-01, -6.0128e-01, -8.0187e-03,\n",
       "           -9.4348e-01, -2.1693e-01]],\n",
       "\n",
       "         [[ 4.8193e-01,  2.2999e-01, -1.3313e-01,  5.1383e-01, -9.9084e-01,\n",
       "           -1.9213e-02, -3.1695e-01, -5.6942e-01, -6.9553e-01,  2.8103e-01,\n",
       "           -9.5713e-02, -5.6725e-01],\n",
       "          [ 2.8298e-01,  5.6424e-01, -9.7939e-01,  5.6753e-01,  5.8651e-01,\n",
       "           -6.4633e-01,  4.8086e-01, -3.2142e-01, -1.0461e-02, -3.0451e-01,\n",
       "            2.1340e-01,  9.9615e-01],\n",
       "          [-2.0716e-03, -1.0569e-01,  4.8084e-01,  4.2744e-01, -9.8162e-01,\n",
       "            1.2657e-01, -2.3039e-01, -3.7441e-02,  6.7401e-02,  3.3704e-01,\n",
       "           -1.7288e-01, -4.8423e-01],\n",
       "          [ 2.7793e-01,  4.7001e-01, -5.7772e-01, -2.4210e-02,  5.1103e-01,\n",
       "            4.4565e-01, -8.4790e-01, -2.6164e-02,  6.3028e-01,  3.1579e-01,\n",
       "           -6.9282e-01,  6.6256e-01],\n",
       "          [-2.3988e-01, -5.9520e-01,  2.8096e-01,  1.7908e-01, -5.4832e-01,\n",
       "            1.7222e-01, -5.9400e-01,  2.8082e-01,  4.8149e-01,  5.3352e-01,\n",
       "            4.5636e-01, -8.5691e-01],\n",
       "          [-1.5326e+00, -2.6248e-01,  7.6649e-01,  5.8233e-01,  2.9294e-01,\n",
       "            5.1282e-01, -9.3241e-01,  6.2192e-02,  1.7820e-01, -7.6965e-01,\n",
       "           -1.1568e+00, -4.3459e-01],\n",
       "          [-5.2908e-01, -6.0949e-01, -3.1027e-02, -3.1078e-01, -1.3422e+00,\n",
       "            1.4824e-01, -8.3723e-02,  2.1941e-01,  3.3069e-01, -3.6888e-01,\n",
       "           -9.8117e-02, -6.3139e-01],\n",
       "          [-8.4983e-01, -4.7267e-01,  7.3790e-01,  8.8504e-02,  9.4407e-01,\n",
       "            7.6881e-02,  6.6118e-01,  1.0619e+00, -1.5648e+00, -3.9143e-01,\n",
       "           -7.0640e-01,  1.2926e-01],\n",
       "          [-2.7086e-01, -9.5917e-02,  6.2003e-01,  9.3574e-01,  8.9704e-01,\n",
       "           -2.6650e-01,  1.5505e-01, -1.4438e-01,  1.6081e-02, -2.1776e-01,\n",
       "            3.8086e-01, -2.3985e-01],\n",
       "          [ 4.6398e-01,  9.7103e-02, -3.9662e-02,  3.1919e-01,  6.1547e-01,\n",
       "            8.0861e-01, -1.3104e-01, -6.1187e-01, -4.0282e-01, -2.7381e-01,\n",
       "           -3.8799e-01, -2.3628e-01],\n",
       "          [ 5.4551e-01, -2.3465e-01,  2.6904e-01, -3.8935e-01,  7.8821e-01,\n",
       "            6.2706e-01,  3.6730e-01,  6.4273e-02,  4.0124e-01, -6.2770e-01,\n",
       "            1.5370e-01,  3.2277e-01],\n",
       "          [-1.0313e+00,  2.9571e-01,  9.6974e-01,  2.9930e-01,  2.4753e-01,\n",
       "            9.2079e-01, -7.5649e-01, -2.3579e-01, -5.7031e-01,  1.4824e-01,\n",
       "            8.5511e-01,  4.9479e-02]],\n",
       "\n",
       "         [[ 3.6346e-01,  6.6751e-01,  1.6633e-02,  1.0160e-01,  6.1363e-01,\n",
       "           -4.4560e-01, -2.9472e-01,  3.1920e-01, -7.6028e-01,  3.0686e-01,\n",
       "            3.2188e-01,  1.5337e-01],\n",
       "          [-2.2929e-01,  1.5772e-01, -4.2851e-01,  9.2564e-01,  5.5805e-01,\n",
       "           -4.8178e-01, -4.3277e-01, -3.0558e-01,  3.5750e-01,  9.3196e-03,\n",
       "            4.8952e-01,  5.3281e-01],\n",
       "          [-9.8441e-01,  9.4684e-01, -2.3426e-01, -7.6313e-03,  2.7596e-01,\n",
       "           -4.5794e-01, -4.7783e-02,  2.2728e-01, -1.4740e-01,  9.5258e-01,\n",
       "           -1.4825e-01,  8.5868e-01],\n",
       "          [-6.4790e-01, -4.6279e-01, -6.7934e-01,  1.0954e-02,  6.0762e-02,\n",
       "            2.0178e-01, -1.2444e-01, -7.4896e-01,  1.0052e+00, -4.8874e-01,\n",
       "            1.8052e-01,  7.2903e-01],\n",
       "          [-1.4879e-02,  1.4860e-01, -9.1311e-01,  7.6657e-02, -9.0357e-01,\n",
       "            6.4071e-01, -6.5285e-02, -1.4497e-01,  9.8632e-01,  8.1470e-01,\n",
       "            2.2541e-02,  6.5103e-02],\n",
       "          [-1.2657e+00, -6.5887e-01,  2.3971e-01, -6.0686e-02, -4.7196e-01,\n",
       "            5.3037e-01, -4.5732e-01, -1.1635e+00, -4.9317e-01,  8.5422e-01,\n",
       "           -1.1366e+00, -3.3752e-01],\n",
       "          [-4.5934e-01, -1.1323e-01,  1.0640e-01, -3.5144e-02,  1.7574e-01,\n",
       "            2.7689e-01, -1.6563e-01,  2.4785e-01, -1.2476e-01,  4.3431e-01,\n",
       "           -6.2239e-01, -4.6879e-01],\n",
       "          [-1.8271e-01, -5.5107e-01,  3.0306e-01, -4.1888e-01,  7.5805e-03,\n",
       "            1.2343e+00,  7.3670e-02,  6.9085e-01, -4.1228e-03,  5.7058e-02,\n",
       "           -7.7297e-01,  2.9750e-01],\n",
       "          [ 7.0599e-01,  3.4969e-01,  6.2195e-01,  8.5903e-01,  6.8801e-01,\n",
       "           -1.0190e-01, -8.8409e-02,  2.4957e-01, -7.1168e-01,  8.6105e-02,\n",
       "            4.3565e-01, -2.6168e-01],\n",
       "          [ 6.0469e-01,  7.5513e-01,  5.9379e-01, -6.3526e-01,  4.8834e-01,\n",
       "            7.7926e-01,  4.0818e-01, -1.5485e-02, -6.6790e-01,  1.3036e-01,\n",
       "           -3.6686e-01,  1.8770e-01],\n",
       "          [ 5.8594e-01,  2.1713e-01,  1.0450e+00,  4.5925e-01,  5.5547e-01,\n",
       "           -8.2848e-02,  7.2615e-01, -3.7129e-01,  1.1870e+00, -5.0904e-01,\n",
       "           -7.5328e-01, -4.2324e-01],\n",
       "          [ 1.7448e-01,  2.0400e-01,  2.0657e-01,  2.8643e-01,  7.8262e-01,\n",
       "            4.6621e-01, -5.3213e-01, -3.1304e-01,  6.1722e-01,  2.3290e-01,\n",
       "            2.4635e-02,  4.7594e-01]],\n",
       "\n",
       "         [[-4.9016e-01, -1.3288e-01, -3.1161e-01,  1.4534e-01,  5.9229e-01,\n",
       "           -2.6899e-01, -5.7970e-02,  6.2551e-01, -8.1906e-01, -4.1810e-01,\n",
       "           -2.9910e-01, -5.7430e-02],\n",
       "          [ 6.0445e-02, -2.8068e-01, -8.7445e-01,  5.5840e-01, -1.0131e-01,\n",
       "           -1.4053e-02,  6.9491e-02,  6.1078e-01,  2.7803e-01, -9.2317e-01,\n",
       "            3.3414e-01,  1.5390e-01],\n",
       "          [-7.5517e-01, -4.3293e-01, -1.2443e+00, -9.1969e-02, -1.1076e-01,\n",
       "           -1.8483e-01,  6.0729e-01, -7.1144e-03,  4.8372e-02, -6.5868e-02,\n",
       "           -8.8433e-01, -9.3712e-02],\n",
       "          [-1.4073e-01, -2.0463e-01, -1.2046e+00,  2.3688e-01,  1.0426e+00,\n",
       "           -1.1728e+00,  2.5014e-01, -2.0967e-01,  4.3450e-01, -4.3009e-02,\n",
       "            8.3578e-01,  1.8999e-01],\n",
       "          [ 2.3129e-02, -5.4787e-01,  9.6501e-03, -2.4101e-02,  5.0208e-01,\n",
       "            3.1671e-01, -9.3301e-01, -3.3996e-02,  2.1516e-01,  1.5003e+00,\n",
       "           -8.2198e-01,  3.1520e-01],\n",
       "          [-9.1818e-01,  6.7202e-01,  1.1676e-01, -2.4439e-01, -2.6259e-01,\n",
       "            9.0570e-01,  5.7746e-01,  1.4373e-01,  1.1139e+00,  1.1411e-01,\n",
       "           -3.5381e-01, -2.7173e-01],\n",
       "          [-4.9323e-01, -3.6190e-01, -7.4334e-01, -5.6991e-03, -4.6039e-01,\n",
       "           -2.2199e-01,  7.0431e-01,  5.1297e-01,  4.8850e-01,  2.4232e-01,\n",
       "           -2.1781e-01,  2.7391e-01],\n",
       "          [-6.9557e-01, -7.3624e-01,  3.8575e-01, -7.7306e-01, -4.1175e-01,\n",
       "            4.3450e-01, -5.4077e-01,  2.6810e-01,  9.0788e-01,  6.8605e-01,\n",
       "            3.8865e-01,  9.0536e-02],\n",
       "          [-2.2970e-01, -3.5480e-01, -7.3861e-01, -7.8408e-01, -7.6261e-01,\n",
       "            1.7577e-01,  8.6501e-01,  7.0221e-01, -4.0391e-01,  8.1656e-01,\n",
       "           -1.6278e-01,  2.1283e-01],\n",
       "          [-2.0994e-01, -8.4092e-01, -4.1478e-01,  1.0526e-01,  3.8644e-01,\n",
       "           -2.7448e-01,  2.0692e-01,  2.0300e-01, -1.9375e-02,  6.6844e-02,\n",
       "           -9.8279e-01,  5.5528e-01],\n",
       "          [-6.0158e-01, -4.6481e-01,  1.3711e-01, -2.7964e-01, -6.7783e-01,\n",
       "           -3.5839e-01, -3.0894e-01,  4.2343e-01,  1.7185e-01, -1.3761e+00,\n",
       "            4.3998e-01, -6.8719e-03],\n",
       "          [-4.8002e-01, -3.9229e-01, -7.5278e-01,  3.8903e-01,  6.2371e-02,\n",
       "           -5.3290e-01, -6.9793e-01, -4.9650e-01, -6.5169e-01, -1.3722e-01,\n",
       "            2.5111e-01,  9.1308e-01]],\n",
       "\n",
       "         [[ 2.2058e-01,  1.6539e-01,  2.8690e-02, -1.0268e+00, -2.1300e-01,\n",
       "            3.2786e-01, -5.8028e-02, -1.2210e-01, -4.2981e-01,  6.9796e-01,\n",
       "           -9.6135e-01,  3.1045e-01],\n",
       "          [ 2.2408e-01,  8.8688e-01, -1.5853e-02, -9.1815e-01,  8.5323e-01,\n",
       "           -1.2246e-01, -1.6112e-01,  2.0809e-01,  7.7938e-02,  1.6387e-02,\n",
       "            1.9443e-01,  7.1282e-02],\n",
       "          [ 2.7642e-01,  9.9973e-01, -6.0555e-01,  9.7585e-01,  4.1879e-02,\n",
       "           -1.0050e+00,  4.2076e-02,  6.0960e-01, -4.8607e-01, -2.5183e-02,\n",
       "           -1.3493e-01,  5.4843e-01],\n",
       "          [-1.1220e+00,  7.8563e-01, -3.5355e-01,  1.1388e-02,  4.3006e-01,\n",
       "           -1.6833e-01,  6.7645e-01, -9.4132e-01, -8.7275e-02, -9.2137e-01,\n",
       "            6.0338e-01, -2.0516e-01],\n",
       "          [-1.2133e+00,  8.5072e-01,  1.9212e-01, -8.2532e-01, -1.0098e+00,\n",
       "           -7.9783e-01,  6.7902e-01, -4.4596e-01,  4.7958e-01,  5.7393e-01,\n",
       "           -1.4397e+00,  3.4439e-01],\n",
       "          [ 1.8803e-01,  4.2208e-01, -1.0400e-01,  2.7296e-01,  7.4815e-01,\n",
       "           -8.1332e-01, -1.5322e-01, -1.1111e-01, -7.3484e-01, -1.9163e-03,\n",
       "           -8.8190e-01, -1.2582e-01],\n",
       "          [-1.3820e+00,  1.4229e+00, -3.6053e-01, -5.9708e-01, -3.4618e-01,\n",
       "            6.2212e-01, -9.9659e-01,  2.4301e-01, -3.1712e-01,  7.5736e-01,\n",
       "           -6.2980e-01,  6.0088e-01],\n",
       "          [-1.2581e-01,  1.1398e+00, -4.5238e-02,  2.3702e-01, -7.1414e-01,\n",
       "            8.1347e-01,  2.0940e-01, -1.5572e-01, -2.9966e-01, -3.3389e-01,\n",
       "           -7.7149e-01,  4.2940e-01],\n",
       "          [ 4.1991e-01, -7.0491e-01,  2.0489e-01,  9.7348e-02, -2.4264e-04,\n",
       "           -2.6409e-02, -8.2271e-01, -5.4597e-01,  7.3266e-01, -6.6623e-01,\n",
       "            6.1839e-01,  9.2581e-02],\n",
       "          [-7.9825e-01,  1.2281e-01, -1.8106e-01, -5.8373e-01, -1.3277e-01,\n",
       "           -2.3856e-01, -1.3479e-01, -9.6603e-01, -1.8283e-01, -5.9460e-01,\n",
       "            7.7083e-01, -1.8289e-01],\n",
       "          [-1.8158e-01,  3.9784e-01, -6.7638e-01, -4.3350e-01, -3.2868e-01,\n",
       "            3.9533e-01, -3.5021e-02,  3.9194e-01, -6.4339e-02,  7.3198e-01,\n",
       "           -2.6006e-01,  1.6895e-01],\n",
       "          [ 5.3253e-01, -2.4696e-01, -3.1568e-01,  2.1321e-01, -2.9169e-01,\n",
       "            1.8551e-01, -2.8833e-01,  1.3773e-01,  9.5118e-01, -3.6774e-01,\n",
       "           -6.0001e-01, -3.7334e-01]],\n",
       "\n",
       "         [[-8.9065e-03, -1.4755e-01,  1.3480e-01,  3.8302e-03,  5.6093e-01,\n",
       "           -2.5842e-01,  2.1913e-01, -1.3195e-01, -5.3408e-02,  5.3041e-02,\n",
       "            3.5127e-01,  1.4001e-01],\n",
       "          [ 6.2159e-01, -2.7528e-01,  1.0703e+00,  7.1767e-01, -8.8433e-01,\n",
       "            3.4385e-01,  4.4799e-01,  2.6979e-01, -5.3256e-02,  1.8597e+00,\n",
       "            1.0761e-01, -4.8964e-01],\n",
       "          [-3.8735e-02,  8.4074e-02,  1.2434e+00,  5.7360e-02, -3.2499e-01,\n",
       "            5.6131e-01,  2.8516e-01, -5.4162e-01,  1.3862e-01,  1.1485e+00,\n",
       "           -7.9343e-01, -6.1090e-01],\n",
       "          [ 6.6151e-01,  3.4884e-02, -1.9180e-01,  2.0871e-01, -5.1069e-01,\n",
       "           -5.4882e-01,  7.5163e-01, -6.0438e-01,  4.5704e-02,  1.5210e-01,\n",
       "           -3.1598e-01, -6.8233e-02],\n",
       "          [-3.9677e-02,  1.2551e+00, -4.5162e-01, -7.6417e-01,  2.2067e-01,\n",
       "            7.4415e-01,  7.2400e-01,  4.2256e-01,  1.9061e-01, -3.6245e-01,\n",
       "            3.2229e-01,  1.4415e+00],\n",
       "          [ 1.4838e+00,  3.6109e-02,  1.8246e-01,  7.6077e-01,  1.6078e-01,\n",
       "            5.2410e-01,  1.0998e+00, -4.3412e-01, -4.5952e-01, -5.4314e-01,\n",
       "            8.1073e-01, -4.7289e-01],\n",
       "          [ 3.7137e-01, -1.4368e-01, -3.0626e-01,  2.7645e-01,  4.2258e-01,\n",
       "           -4.0545e-01, -9.8652e-01,  4.5228e-01, -4.9030e-01,  1.5565e-01,\n",
       "            1.1128e-01,  5.4140e-01],\n",
       "          [-1.1546e-01, -1.9750e-01,  1.3712e-01,  8.1979e-01,  7.1086e-01,\n",
       "            1.3652e-01, -6.5743e-01,  4.0449e-01,  1.0994e+00, -5.8754e-01,\n",
       "            2.4238e-01, -4.1143e-01],\n",
       "          [ 4.0984e-01,  1.2621e+00,  9.3936e-01,  7.9076e-01,  6.8546e-01,\n",
       "            6.0816e-01, -1.1539e-01,  8.2964e-01, -2.4366e-01, -5.7556e-01,\n",
       "            1.3252e-02,  3.9770e-01],\n",
       "          [ 5.1814e-01,  7.4643e-01,  4.6683e-01, -1.0704e+00, -1.6613e-01,\n",
       "           -6.9718e-01,  7.2237e-02, -2.5650e-01,  1.1950e-01, -4.6027e-01,\n",
       "            3.3913e-01, -3.5529e-01],\n",
       "          [ 3.9264e-01,  1.3255e-01, -2.3501e-01,  6.7256e-01,  1.0848e+00,\n",
       "            6.6217e-01,  4.0401e-01,  8.8525e-01,  2.9032e-01,  6.3108e-01,\n",
       "           -8.9549e-02, -3.7898e-01],\n",
       "          [ 7.9453e-01,  3.7323e-01, -1.4677e-01,  5.0910e-01,  7.7745e-01,\n",
       "            6.2092e-01,  7.2705e-01, -5.5105e-01,  4.2016e-01,  5.0768e-01,\n",
       "           -2.1908e-01,  1.0824e+00]]]], grad_fn=<MkldnnConvolutionBackward>)"
      ]
     },
     "execution_count": 317,
     "metadata": {},
     "output_type": "execute_result"
    }
   ],
   "source": [
    "#kernel_size=5, stride=2\n",
    "Conv=torch.nn.Conv2d(in_channels=3, out_channels=6,kernel_size=5, stride=2, padding=0, dilation=2, groups=1,\n",
    "                     bias=True, padding_mode='zeros')\n",
    "torch_out=Conv(inputs)\n",
    "torch_out"
   ]
  },
  {
   "cell_type": "code",
   "execution_count": 320,
   "metadata": {},
   "outputs": [
    {
     "data": {
      "text/plain": [
       "tensor([[[[-5.4020e-03,  1.7909e-01, -1.0476e-01,  7.4469e-01,  5.9291e-01,\n",
       "            2.9449e-01,  1.0095e+00, -7.7239e-01,  3.8286e-01,  2.2187e-01,\n",
       "           -3.1923e-01, -2.4975e-01],\n",
       "          [ 7.4679e-01,  6.7371e-03, -3.1795e-01, -9.2883e-01,  5.0674e-02,\n",
       "            3.6113e-01,  1.1296e-01,  7.9236e-02, -2.0038e-01,  1.1906e-01,\n",
       "           -1.5462e-01, -3.6292e-01],\n",
       "          [ 5.3563e-01, -3.3586e-01,  3.1869e-01,  7.5129e-01, -7.1287e-02,\n",
       "           -2.6119e-01, -2.1188e-01, -6.8061e-01, -8.6836e-01,  3.2121e-01,\n",
       "           -8.6332e-01,  4.3371e-01],\n",
       "          [ 5.5730e-01,  9.2158e-01,  1.9784e-01, -1.1340e-01,  4.6574e-02,\n",
       "           -6.8409e-01, -5.3939e-01, -4.5286e-02,  1.1033e+00, -5.2885e-01,\n",
       "            9.7801e-01, -1.0700e+00],\n",
       "          [-9.3423e-01,  3.4281e-01, -2.9735e-01,  6.6228e-02, -1.2507e-01,\n",
       "            1.1401e+00, -3.7330e-01, -8.3782e-01, -3.1296e-01, -1.1258e+00,\n",
       "           -5.3248e-01,  9.1912e-01],\n",
       "          [ 9.1617e-01,  3.6093e-01, -7.6088e-01, -9.5140e-01, -7.5126e-01,\n",
       "           -1.0951e+00,  4.7919e-01,  1.6233e-01,  7.1829e-02, -4.7872e-01,\n",
       "           -3.4280e-01,  3.6629e-02],\n",
       "          [-4.5996e-01, -4.3469e-01, -4.5935e-01, -6.9597e-01,  8.5158e-02,\n",
       "            2.7642e-01, -4.1811e-01, -5.9020e-01, -1.3162e-01,  4.2992e-01,\n",
       "            9.0378e-01,  1.1499e+00],\n",
       "          [ 1.6816e+00,  3.7476e-01, -3.3261e-01,  5.8311e-01,  6.2088e-01,\n",
       "           -2.7656e-01, -1.0207e-01,  4.4648e-01, -4.8829e-01,  6.7682e-02,\n",
       "            2.9003e-01, -1.1178e+00],\n",
       "          [ 1.1710e+00, -9.6747e-02, -1.1760e+00, -4.9008e-01, -2.0912e-01,\n",
       "            2.3941e-01, -7.8519e-01,  2.3458e-01,  2.6289e-01,  4.1293e-02,\n",
       "            1.9467e-01,  4.6064e-01],\n",
       "          [-8.3960e-01, -5.7132e-01, -3.9182e-02, -4.3306e-01,  2.0934e-01,\n",
       "           -1.3911e+00, -6.5339e-01,  9.5600e-02,  1.5789e-01,  4.0697e-01,\n",
       "           -3.1297e-01,  6.5731e-02],\n",
       "          [-8.8135e-01, -7.2432e-01, -3.8230e-02,  3.0135e-01, -7.8832e-02,\n",
       "            7.9441e-02,  5.9052e-01,  2.0252e-02,  1.1406e+00, -6.9084e-01,\n",
       "            8.5715e-01,  3.4945e-01],\n",
       "          [-4.3658e-01, -3.4611e-01, -7.7657e-02, -8.0001e-01, -4.6689e-01,\n",
       "            2.1124e-01, -1.8702e-01,  3.8488e-01, -6.0128e-01, -8.0187e-03,\n",
       "           -9.4348e-01, -2.1693e-01]],\n",
       "\n",
       "         [[ 4.8193e-01,  2.2999e-01, -1.3313e-01,  5.1383e-01, -9.9084e-01,\n",
       "           -1.9213e-02, -3.1695e-01, -5.6943e-01, -6.9553e-01,  2.8103e-01,\n",
       "           -9.5713e-02, -5.6725e-01],\n",
       "          [ 2.8298e-01,  5.6424e-01, -9.7939e-01,  5.6753e-01,  5.8651e-01,\n",
       "           -6.4633e-01,  4.8086e-01, -3.2142e-01, -1.0461e-02, -3.0451e-01,\n",
       "            2.1340e-01,  9.9615e-01],\n",
       "          [-2.0716e-03, -1.0569e-01,  4.8084e-01,  4.2744e-01, -9.8162e-01,\n",
       "            1.2657e-01, -2.3039e-01, -3.7441e-02,  6.7401e-02,  3.3704e-01,\n",
       "           -1.7288e-01, -4.8423e-01],\n",
       "          [ 2.7793e-01,  4.7001e-01, -5.7772e-01, -2.4210e-02,  5.1103e-01,\n",
       "            4.4565e-01, -8.4790e-01, -2.6164e-02,  6.3028e-01,  3.1579e-01,\n",
       "           -6.9282e-01,  6.6256e-01],\n",
       "          [-2.3988e-01, -5.9520e-01,  2.8096e-01,  1.7908e-01, -5.4832e-01,\n",
       "            1.7222e-01, -5.9400e-01,  2.8082e-01,  4.8149e-01,  5.3352e-01,\n",
       "            4.5636e-01, -8.5691e-01],\n",
       "          [-1.5326e+00, -2.6248e-01,  7.6649e-01,  5.8232e-01,  2.9294e-01,\n",
       "            5.1282e-01, -9.3241e-01,  6.2192e-02,  1.7820e-01, -7.6965e-01,\n",
       "           -1.1568e+00, -4.3459e-01],\n",
       "          [-5.2908e-01, -6.0949e-01, -3.1028e-02, -3.1078e-01, -1.3422e+00,\n",
       "            1.4824e-01, -8.3723e-02,  2.1941e-01,  3.3069e-01, -3.6888e-01,\n",
       "           -9.8117e-02, -6.3139e-01],\n",
       "          [-8.4983e-01, -4.7267e-01,  7.3790e-01,  8.8504e-02,  9.4407e-01,\n",
       "            7.6881e-02,  6.6118e-01,  1.0619e+00, -1.5648e+00, -3.9143e-01,\n",
       "           -7.0640e-01,  1.2926e-01],\n",
       "          [-2.7086e-01, -9.5917e-02,  6.2003e-01,  9.3574e-01,  8.9704e-01,\n",
       "           -2.6650e-01,  1.5505e-01, -1.4438e-01,  1.6082e-02, -2.1776e-01,\n",
       "            3.8086e-01, -2.3985e-01],\n",
       "          [ 4.6398e-01,  9.7103e-02, -3.9662e-02,  3.1919e-01,  6.1547e-01,\n",
       "            8.0861e-01, -1.3104e-01, -6.1187e-01, -4.0282e-01, -2.7381e-01,\n",
       "           -3.8799e-01, -2.3628e-01],\n",
       "          [ 5.4551e-01, -2.3465e-01,  2.6904e-01, -3.8935e-01,  7.8821e-01,\n",
       "            6.2706e-01,  3.6730e-01,  6.4273e-02,  4.0124e-01, -6.2770e-01,\n",
       "            1.5370e-01,  3.2277e-01],\n",
       "          [-1.0313e+00,  2.9571e-01,  9.6974e-01,  2.9930e-01,  2.4753e-01,\n",
       "            9.2079e-01, -7.5649e-01, -2.3579e-01, -5.7031e-01,  1.4824e-01,\n",
       "            8.5511e-01,  4.9479e-02]],\n",
       "\n",
       "         [[ 3.6346e-01,  6.6751e-01,  1.6633e-02,  1.0160e-01,  6.1363e-01,\n",
       "           -4.4560e-01, -2.9472e-01,  3.1920e-01, -7.6028e-01,  3.0686e-01,\n",
       "            3.2188e-01,  1.5337e-01],\n",
       "          [-2.2929e-01,  1.5772e-01, -4.2851e-01,  9.2564e-01,  5.5805e-01,\n",
       "           -4.8178e-01, -4.3277e-01, -3.0558e-01,  3.5750e-01,  9.3196e-03,\n",
       "            4.8952e-01,  5.3281e-01],\n",
       "          [-9.8441e-01,  9.4684e-01, -2.3426e-01, -7.6313e-03,  2.7596e-01,\n",
       "           -4.5794e-01, -4.7783e-02,  2.2728e-01, -1.4740e-01,  9.5258e-01,\n",
       "           -1.4825e-01,  8.5868e-01],\n",
       "          [-6.4791e-01, -4.6279e-01, -6.7934e-01,  1.0954e-02,  6.0762e-02,\n",
       "            2.0178e-01, -1.2444e-01, -7.4896e-01,  1.0052e+00, -4.8874e-01,\n",
       "            1.8052e-01,  7.2903e-01],\n",
       "          [-1.4879e-02,  1.4860e-01, -9.1311e-01,  7.6657e-02, -9.0357e-01,\n",
       "            6.4071e-01, -6.5285e-02, -1.4497e-01,  9.8632e-01,  8.1470e-01,\n",
       "            2.2541e-02,  6.5103e-02],\n",
       "          [-1.2657e+00, -6.5887e-01,  2.3971e-01, -6.0686e-02, -4.7196e-01,\n",
       "            5.3037e-01, -4.5732e-01, -1.1635e+00, -4.9317e-01,  8.5422e-01,\n",
       "           -1.1366e+00, -3.3752e-01],\n",
       "          [-4.5934e-01, -1.1323e-01,  1.0640e-01, -3.5144e-02,  1.7574e-01,\n",
       "            2.7689e-01, -1.6563e-01,  2.4785e-01, -1.2476e-01,  4.3431e-01,\n",
       "           -6.2239e-01, -4.6879e-01],\n",
       "          [-1.8271e-01, -5.5107e-01,  3.0306e-01, -4.1888e-01,  7.5806e-03,\n",
       "            1.2343e+00,  7.3670e-02,  6.9085e-01, -4.1229e-03,  5.7057e-02,\n",
       "           -7.7297e-01,  2.9750e-01],\n",
       "          [ 7.0599e-01,  3.4969e-01,  6.2195e-01,  8.5903e-01,  6.8801e-01,\n",
       "           -1.0190e-01, -8.8409e-02,  2.4957e-01, -7.1168e-01,  8.6105e-02,\n",
       "            4.3565e-01, -2.6168e-01],\n",
       "          [ 6.0469e-01,  7.5513e-01,  5.9379e-01, -6.3526e-01,  4.8834e-01,\n",
       "            7.7926e-01,  4.0818e-01, -1.5485e-02, -6.6790e-01,  1.3036e-01,\n",
       "           -3.6686e-01,  1.8770e-01],\n",
       "          [ 5.8594e-01,  2.1713e-01,  1.0450e+00,  4.5925e-01,  5.5547e-01,\n",
       "           -8.2848e-02,  7.2615e-01, -3.7129e-01,  1.1870e+00, -5.0904e-01,\n",
       "           -7.5328e-01, -4.2324e-01],\n",
       "          [ 1.7448e-01,  2.0400e-01,  2.0657e-01,  2.8643e-01,  7.8262e-01,\n",
       "            4.6621e-01, -5.3213e-01, -3.1304e-01,  6.1722e-01,  2.3290e-01,\n",
       "            2.4635e-02,  4.7594e-01]],\n",
       "\n",
       "         [[-4.9016e-01, -1.3288e-01, -3.1161e-01,  1.4534e-01,  5.9229e-01,\n",
       "           -2.6899e-01, -5.7970e-02,  6.2551e-01, -8.1906e-01, -4.1810e-01,\n",
       "           -2.9910e-01, -5.7430e-02],\n",
       "          [ 6.0445e-02, -2.8068e-01, -8.7445e-01,  5.5840e-01, -1.0131e-01,\n",
       "           -1.4053e-02,  6.9491e-02,  6.1078e-01,  2.7803e-01, -9.2317e-01,\n",
       "            3.3414e-01,  1.5390e-01],\n",
       "          [-7.5517e-01, -4.3293e-01, -1.2443e+00, -9.1969e-02, -1.1076e-01,\n",
       "           -1.8483e-01,  6.0729e-01, -7.1145e-03,  4.8372e-02, -6.5868e-02,\n",
       "           -8.8433e-01, -9.3712e-02],\n",
       "          [-1.4073e-01, -2.0463e-01, -1.2046e+00,  2.3688e-01,  1.0426e+00,\n",
       "           -1.1728e+00,  2.5014e-01, -2.0967e-01,  4.3450e-01, -4.3009e-02,\n",
       "            8.3578e-01,  1.8999e-01],\n",
       "          [ 2.3129e-02, -5.4787e-01,  9.6501e-03, -2.4101e-02,  5.0208e-01,\n",
       "            3.1671e-01, -9.3301e-01, -3.3996e-02,  2.1516e-01,  1.5003e+00,\n",
       "           -8.2198e-01,  3.1520e-01],\n",
       "          [-9.1818e-01,  6.7202e-01,  1.1676e-01, -2.4439e-01, -2.6259e-01,\n",
       "            9.0570e-01,  5.7746e-01,  1.4373e-01,  1.1139e+00,  1.1411e-01,\n",
       "           -3.5381e-01, -2.7173e-01],\n",
       "          [-4.9323e-01, -3.6190e-01, -7.4334e-01, -5.6990e-03, -4.6039e-01,\n",
       "           -2.2199e-01,  7.0431e-01,  5.1297e-01,  4.8850e-01,  2.4232e-01,\n",
       "           -2.1781e-01,  2.7391e-01],\n",
       "          [-6.9557e-01, -7.3624e-01,  3.8575e-01, -7.7306e-01, -4.1175e-01,\n",
       "            4.3450e-01, -5.4077e-01,  2.6810e-01,  9.0788e-01,  6.8605e-01,\n",
       "            3.8865e-01,  9.0536e-02],\n",
       "          [-2.2970e-01, -3.5480e-01, -7.3861e-01, -7.8408e-01, -7.6261e-01,\n",
       "            1.7577e-01,  8.6501e-01,  7.0221e-01, -4.0391e-01,  8.1656e-01,\n",
       "           -1.6278e-01,  2.1283e-01],\n",
       "          [-2.0994e-01, -8.4092e-01, -4.1478e-01,  1.0526e-01,  3.8644e-01,\n",
       "           -2.7448e-01,  2.0692e-01,  2.0300e-01, -1.9375e-02,  6.6844e-02,\n",
       "           -9.8279e-01,  5.5528e-01],\n",
       "          [-6.0158e-01, -4.6481e-01,  1.3711e-01, -2.7964e-01, -6.7783e-01,\n",
       "           -3.5839e-01, -3.0894e-01,  4.2343e-01,  1.7185e-01, -1.3761e+00,\n",
       "            4.3998e-01, -6.8719e-03],\n",
       "          [-4.8002e-01, -3.9229e-01, -7.5278e-01,  3.8903e-01,  6.2371e-02,\n",
       "           -5.3290e-01, -6.9793e-01, -4.9650e-01, -6.5169e-01, -1.3722e-01,\n",
       "            2.5111e-01,  9.1308e-01]],\n",
       "\n",
       "         [[ 2.2058e-01,  1.6539e-01,  2.8690e-02, -1.0268e+00, -2.1300e-01,\n",
       "            3.2786e-01, -5.8028e-02, -1.2210e-01, -4.2981e-01,  6.9796e-01,\n",
       "           -9.6135e-01,  3.1045e-01],\n",
       "          [ 2.2408e-01,  8.8688e-01, -1.5853e-02, -9.1815e-01,  8.5323e-01,\n",
       "           -1.2246e-01, -1.6112e-01,  2.0809e-01,  7.7938e-02,  1.6387e-02,\n",
       "            1.9443e-01,  7.1283e-02],\n",
       "          [ 2.7642e-01,  9.9973e-01, -6.0555e-01,  9.7585e-01,  4.1879e-02,\n",
       "           -1.0050e+00,  4.2076e-02,  6.0960e-01, -4.8607e-01, -2.5183e-02,\n",
       "           -1.3493e-01,  5.4844e-01],\n",
       "          [-1.1220e+00,  7.8563e-01, -3.5355e-01,  1.1388e-02,  4.3006e-01,\n",
       "           -1.6833e-01,  6.7645e-01, -9.4132e-01, -8.7275e-02, -9.2137e-01,\n",
       "            6.0338e-01, -2.0516e-01],\n",
       "          [-1.2133e+00,  8.5072e-01,  1.9212e-01, -8.2532e-01, -1.0098e+00,\n",
       "           -7.9783e-01,  6.7902e-01, -4.4596e-01,  4.7958e-01,  5.7393e-01,\n",
       "           -1.4397e+00,  3.4439e-01],\n",
       "          [ 1.8803e-01,  4.2208e-01, -1.0400e-01,  2.7296e-01,  7.4815e-01,\n",
       "           -8.1332e-01, -1.5322e-01, -1.1112e-01, -7.3484e-01, -1.9162e-03,\n",
       "           -8.8190e-01, -1.2582e-01],\n",
       "          [-1.3820e+00,  1.4229e+00, -3.6053e-01, -5.9708e-01, -3.4619e-01,\n",
       "            6.2212e-01, -9.9659e-01,  2.4301e-01, -3.1712e-01,  7.5736e-01,\n",
       "           -6.2980e-01,  6.0088e-01],\n",
       "          [-1.2581e-01,  1.1398e+00, -4.5238e-02,  2.3702e-01, -7.1414e-01,\n",
       "            8.1347e-01,  2.0940e-01, -1.5572e-01, -2.9966e-01, -3.3389e-01,\n",
       "           -7.7149e-01,  4.2940e-01],\n",
       "          [ 4.1991e-01, -7.0491e-01,  2.0489e-01,  9.7348e-02, -2.4255e-04,\n",
       "           -2.6408e-02, -8.2271e-01, -5.4597e-01,  7.3266e-01, -6.6623e-01,\n",
       "            6.1839e-01,  9.2581e-02],\n",
       "          [-7.9825e-01,  1.2281e-01, -1.8106e-01, -5.8373e-01, -1.3277e-01,\n",
       "           -2.3856e-01, -1.3479e-01, -9.6603e-01, -1.8283e-01, -5.9460e-01,\n",
       "            7.7083e-01, -1.8289e-01],\n",
       "          [-1.8158e-01,  3.9784e-01, -6.7638e-01, -4.3350e-01, -3.2868e-01,\n",
       "            3.9533e-01, -3.5021e-02,  3.9194e-01, -6.4339e-02,  7.3198e-01,\n",
       "           -2.6006e-01,  1.6895e-01],\n",
       "          [ 5.3253e-01, -2.4696e-01, -3.1568e-01,  2.1321e-01, -2.9169e-01,\n",
       "            1.8551e-01, -2.8833e-01,  1.3773e-01,  9.5118e-01, -3.6774e-01,\n",
       "           -6.0001e-01, -3.7334e-01]],\n",
       "\n",
       "         [[-8.9064e-03, -1.4755e-01,  1.3480e-01,  3.8301e-03,  5.6093e-01,\n",
       "           -2.5842e-01,  2.1913e-01, -1.3195e-01, -5.3408e-02,  5.3041e-02,\n",
       "            3.5127e-01,  1.4001e-01],\n",
       "          [ 6.2159e-01, -2.7528e-01,  1.0703e+00,  7.1767e-01, -8.8434e-01,\n",
       "            3.4385e-01,  4.4799e-01,  2.6979e-01, -5.3256e-02,  1.8597e+00,\n",
       "            1.0761e-01, -4.8964e-01],\n",
       "          [-3.8735e-02,  8.4075e-02,  1.2434e+00,  5.7360e-02, -3.2499e-01,\n",
       "            5.6131e-01,  2.8516e-01, -5.4162e-01,  1.3862e-01,  1.1485e+00,\n",
       "           -7.9343e-01, -6.1090e-01],\n",
       "          [ 6.6151e-01,  3.4884e-02, -1.9180e-01,  2.0871e-01, -5.1069e-01,\n",
       "           -5.4882e-01,  7.5163e-01, -6.0438e-01,  4.5704e-02,  1.5210e-01,\n",
       "           -3.1598e-01, -6.8232e-02],\n",
       "          [-3.9677e-02,  1.2551e+00, -4.5162e-01, -7.6417e-01,  2.2067e-01,\n",
       "            7.4415e-01,  7.2400e-01,  4.2256e-01,  1.9061e-01, -3.6245e-01,\n",
       "            3.2229e-01,  1.4415e+00],\n",
       "          [ 1.4838e+00,  3.6109e-02,  1.8246e-01,  7.6077e-01,  1.6078e-01,\n",
       "            5.2410e-01,  1.0998e+00, -4.3412e-01, -4.5952e-01, -5.4314e-01,\n",
       "            8.1073e-01, -4.7289e-01],\n",
       "          [ 3.7137e-01, -1.4368e-01, -3.0626e-01,  2.7645e-01,  4.2258e-01,\n",
       "           -4.0545e-01, -9.8652e-01,  4.5228e-01, -4.9030e-01,  1.5565e-01,\n",
       "            1.1128e-01,  5.4140e-01],\n",
       "          [-1.1546e-01, -1.9750e-01,  1.3713e-01,  8.1979e-01,  7.1086e-01,\n",
       "            1.3652e-01, -6.5743e-01,  4.0449e-01,  1.0994e+00, -5.8754e-01,\n",
       "            2.4238e-01, -4.1143e-01],\n",
       "          [ 4.0984e-01,  1.2621e+00,  9.3936e-01,  7.9076e-01,  6.8546e-01,\n",
       "            6.0816e-01, -1.1539e-01,  8.2964e-01, -2.4366e-01, -5.7556e-01,\n",
       "            1.3252e-02,  3.9770e-01],\n",
       "          [ 5.1814e-01,  7.4643e-01,  4.6683e-01, -1.0704e+00, -1.6613e-01,\n",
       "           -6.9718e-01,  7.2237e-02, -2.5650e-01,  1.1950e-01, -4.6027e-01,\n",
       "            3.3913e-01, -3.5529e-01],\n",
       "          [ 3.9264e-01,  1.3255e-01, -2.3501e-01,  6.7256e-01,  1.0848e+00,\n",
       "            6.6217e-01,  4.0401e-01,  8.8525e-01,  2.9032e-01,  6.3108e-01,\n",
       "           -8.9549e-02, -3.7898e-01],\n",
       "          [ 7.9453e-01,  3.7323e-01, -1.4677e-01,  5.0910e-01,  7.7745e-01,\n",
       "            6.2092e-01,  7.2705e-01, -5.5105e-01,  4.2016e-01,  5.0768e-01,\n",
       "           -2.1908e-01,  1.0824e+00]]]])"
      ]
     },
     "execution_count": 320,
     "metadata": {},
     "output_type": "execute_result"
    }
   ],
   "source": [
    "kernels = Conv.weight.data\n",
    "bias = Conv.bias.data\n",
    "\n",
    "def one_kernel_dilation(kernel, dilation):\n",
    "    dilation_kernel = torch.zeros([len(kernel)+(dilation-1)*(len(kernel)-1), len(kernel)+(dilation-1)*(len(kernel)-1)])\n",
    "    count = 0\n",
    "    for i in range(0, len(dilation_kernel), dilation):\n",
    "        for j in range(0, len(dilation_kernel), dilation):\n",
    "            dilation_kernel[i][j] = kernel.flatten()[count]\n",
    "            count+=1\n",
    "    return dilation_kernel\n",
    "\n",
    "def all_kernel_dilation(kernel, dilation):\n",
    "    kernels = torch.zeros([len(kernel), len(kernel[0]), len(kernel[0][0])+(dilation-1)*(len(kernel[0][0])-1), len(kernel[0][0])+(dilation-1)*(len(kernel[0][0])-1)])\n",
    "    for i in range(len(kernel)):\n",
    "        for j in range(len(kernel[0])):\n",
    "            kernels[i][j] = one_kernel_dilation(kernel[i][j], dilation)\n",
    "    return kernels\n",
    "\n",
    "def convolution2D(inputs, kernel, bias, stride, dilation):\n",
    "    if dilation != 1:\n",
    "        kernels = all_kernel_dilation(kernel, dilation=dilation)\n",
    "    out = conv2d(inputs, kernels, bias, stride)\n",
    "    return out\n",
    "\n",
    "# test multi channel and multi kernel\n",
    "\n",
    "my_out = convolution2D(inputs, kernels, bias, 2, 2)\n",
    "my_out"
   ]
  },
  {
   "cell_type": "code",
   "execution_count": 321,
   "metadata": {},
   "outputs": [
    {
     "data": {
      "text/plain": [
       "tensor(True)"
      ]
     },
     "execution_count": 321,
     "metadata": {},
     "output_type": "execute_result"
    }
   ],
   "source": [
    "(torch_out - my_out<=0.00001).all()"
   ]
  },
  {
   "cell_type": "markdown",
   "metadata": {},
   "source": [
    "### 5. Transpose Conv2D\n",
    "Hout =  floor( Hin + 2*padding - kernel_size / stride) + 1"
   ]
  },
  {
   "cell_type": "code",
   "execution_count": 362,
   "metadata": {},
   "outputs": [
    {
     "data": {
      "text/plain": [
       "tensor([[[[-0.0991,  0.0746,  0.1755,  ...,  0.3479,  0.0285,  0.2571],\n",
       "          [ 0.1924,  0.5245, -0.1140,  ...,  0.5858,  0.5911, -0.0745],\n",
       "          [-0.0195,  0.1248,  0.0522,  ...,  0.2468,  0.4244,  0.3184],\n",
       "          ...,\n",
       "          [ 0.3420, -0.0626, -0.0546,  ...,  0.1320, -0.3094, -0.4699],\n",
       "          [ 0.3779,  0.1212,  0.0975,  ...,  0.0998,  0.2017,  0.2223],\n",
       "          [ 0.1261, -0.0047, -0.0531,  ...,  0.0212,  0.0026,  0.1914]],\n",
       "\n",
       "         [[ 0.0853, -0.0159, -0.0172,  ...,  0.3638,  0.2832, -0.1431],\n",
       "          [ 0.0124, -0.1714,  0.0593,  ..., -0.5503,  0.2770, -0.4170],\n",
       "          [ 0.1376, -0.1691,  0.1871,  ...,  0.3645,  0.4227, -0.0538],\n",
       "          ...,\n",
       "          [-0.2328, -0.3624, -0.9893,  ..., -0.1311,  0.5762, -0.3389],\n",
       "          [ 0.3293, -0.1575,  0.0779,  ...,  0.6060,  0.4229, -0.0530],\n",
       "          [ 0.0674,  0.3222, -0.6074,  ..., -0.3700,  0.3298, -0.1261]],\n",
       "\n",
       "         [[-0.0610,  0.1858,  0.4222,  ..., -0.5915, -0.0875, -0.1219],\n",
       "          [-0.0618, -0.0876, -0.1510,  ...,  0.3947, -0.0584, -0.0121],\n",
       "          [ 0.1717,  0.0077, -0.0034,  ...,  0.2998, -0.7135, -0.3956],\n",
       "          ...,\n",
       "          [ 0.5276, -0.5095,  0.2502,  ...,  0.0959,  0.0733,  0.1123],\n",
       "          [ 0.0332, -0.4358, -0.5022,  ...,  0.1338, -0.2470,  0.2411],\n",
       "          [-0.0513,  0.0908,  0.0219,  ...,  0.0747,  0.1729, -0.2355]],\n",
       "\n",
       "         [[ 0.0247, -0.0371, -0.2074,  ...,  0.0948, -0.0797,  0.0234],\n",
       "          [-0.0159, -0.0460, -0.2813,  ..., -0.1284, -0.2209, -0.0636],\n",
       "          [-0.0048,  0.0128, -0.1499,  ...,  0.1803, -0.8477, -0.0167],\n",
       "          ...,\n",
       "          [-0.3058, -0.0013, -0.4423,  ...,  0.0484,  0.1337, -0.1583],\n",
       "          [-0.3440, -0.1435, -0.1927,  ...,  0.5511,  0.0329,  0.1290],\n",
       "          [-0.0046, -0.0415,  0.3019,  ...,  0.3336,  0.2372,  0.2274]]]],\n",
       "       grad_fn=<SlowConvTranspose2DBackward>)"
      ]
     },
     "execution_count": 362,
     "metadata": {},
     "output_type": "execute_result"
    }
   ],
   "source": [
    "ConvTranspose = torch.nn.ConvTranspose2d(in_channels=3, out_channels=4,kernel_size=3, stride=1, padding=0, output_padding=0,\n",
    "groups=1, bias=True, dilation=1, padding_mode='zeros')\n",
    "torch_out=ConvTranspose(inputs)\n",
    "torch_out"
   ]
  },
  {
   "cell_type": "code",
   "execution_count": 363,
   "metadata": {},
   "outputs": [],
   "source": [
    "weight = ConvTranspose.weight.data\n",
    "bias = ConvTranspose.bias.data"
   ]
  },
  {
   "cell_type": "code",
   "execution_count": 364,
   "metadata": {},
   "outputs": [
    {
     "data": {
      "text/plain": [
       "tensor([[[[-0.0991,  0.0746,  0.1755,  ...,  0.3479,  0.0285,  0.2571],\n",
       "          [ 0.1924,  0.5245, -0.1140,  ...,  0.5858,  0.5911, -0.0745],\n",
       "          [-0.0195,  0.1248,  0.0522,  ...,  0.2468,  0.4244,  0.3184],\n",
       "          ...,\n",
       "          [ 0.3420, -0.0626, -0.0546,  ...,  0.1320, -0.3094, -0.4699],\n",
       "          [ 0.3779,  0.1212,  0.0975,  ...,  0.0998,  0.2017,  0.2223],\n",
       "          [ 0.1261, -0.0047, -0.0531,  ...,  0.0212,  0.0026,  0.1914]],\n",
       "\n",
       "         [[ 0.0853, -0.0159, -0.0172,  ...,  0.3638,  0.2832, -0.1431],\n",
       "          [ 0.0124, -0.1714,  0.0593,  ..., -0.5503,  0.2770, -0.4170],\n",
       "          [ 0.1376, -0.1691,  0.1871,  ...,  0.3645,  0.4227, -0.0538],\n",
       "          ...,\n",
       "          [-0.2328, -0.3624, -0.9893,  ..., -0.1311,  0.5762, -0.3389],\n",
       "          [ 0.3293, -0.1575,  0.0779,  ...,  0.6060,  0.4229, -0.0530],\n",
       "          [ 0.0674,  0.3222, -0.6074,  ..., -0.3700,  0.3298, -0.1261]],\n",
       "\n",
       "         [[-0.0610,  0.1858,  0.4222,  ..., -0.5915, -0.0875, -0.1219],\n",
       "          [-0.0618, -0.0876, -0.1510,  ...,  0.3947, -0.0584, -0.0121],\n",
       "          [ 0.1717,  0.0077, -0.0034,  ...,  0.2998, -0.7135, -0.3956],\n",
       "          ...,\n",
       "          [ 0.5276, -0.5095,  0.2502,  ...,  0.0959,  0.0733,  0.1123],\n",
       "          [ 0.0332, -0.4358, -0.5022,  ...,  0.1338, -0.2470,  0.2411],\n",
       "          [-0.0513,  0.0908,  0.0219,  ...,  0.0747,  0.1729, -0.2355]],\n",
       "\n",
       "         [[ 0.0247, -0.0371, -0.2074,  ...,  0.0948, -0.0797,  0.0234],\n",
       "          [-0.0159, -0.0460, -0.2813,  ..., -0.1284, -0.2209, -0.0636],\n",
       "          [-0.0048,  0.0128, -0.1499,  ...,  0.1803, -0.8477, -0.0167],\n",
       "          ...,\n",
       "          [-0.3058, -0.0013, -0.4423,  ...,  0.0484,  0.1337, -0.1583],\n",
       "          [-0.3440, -0.1435, -0.1927,  ...,  0.5511,  0.0329,  0.1290],\n",
       "          [-0.0046, -0.0415,  0.3019,  ...,  0.3336,  0.2372,  0.2274]]]])"
      ]
     },
     "execution_count": 364,
     "metadata": {},
     "output_type": "execute_result"
    }
   ],
   "source": [
    "def transpose_conv(inputs, weight, bias):\n",
    "    in_, out_, H, W = weight.shape\n",
    "    out = torch.zeros(1, out_, inputs.shape[2]+H-1, inputs.shape[3]+W-1)\n",
    "    for batch in range(1):\n",
    "        for out_channel in range(out_):\n",
    "            for in_channel in range(in_):\n",
    "                for row in range(inputs.shape[2]):\n",
    "                    for col in range(inputs.shape[3]):\n",
    "                        out[batch, out_channel, row:row+H, col:col+W] += inputs[batch, in_channel, row, col] * weight[in_channel,out_channel,:,:]\n",
    "            out[batch,out_channel,:,:] +=bias[out_channel]\n",
    "    return out                                             \n",
    "my_out = transpose_conv(inputs, weight, bias)\n",
    "my_out"
   ]
  },
  {
   "cell_type": "code",
   "execution_count": 367,
   "metadata": {},
   "outputs": [
    {
     "data": {
      "text/plain": [
       "tensor(True)"
      ]
     },
     "execution_count": 367,
     "metadata": {},
     "output_type": "execute_result"
    }
   ],
   "source": [
    "(torch_out - my_out<=0.000001).all()"
   ]
  },
  {
   "cell_type": "markdown",
   "metadata": {},
   "source": [
    "### 6. Flatten"
   ]
  },
  {
   "cell_type": "code",
   "execution_count": 25,
   "metadata": {},
   "outputs": [],
   "source": [
    "torch_out = torch.flatten(inputs, start_dim=0, end_dim=-1)\n",
    "torch_out = torch_out.numpy()\n",
    "my_out = input_np.flatten()"
   ]
  },
  {
   "cell_type": "markdown",
   "metadata": {},
   "source": [
    "#### Are torch_out and my_out of flatten equal?"
   ]
  },
  {
   "cell_type": "code",
   "execution_count": 26,
   "metadata": {},
   "outputs": [
    {
     "data": {
      "text/plain": [
       "True"
      ]
     },
     "execution_count": 26,
     "metadata": {},
     "output_type": "execute_result"
    }
   ],
   "source": [
    "(torch_out == my_out).all()"
   ]
  },
  {
   "cell_type": "markdown",
   "metadata": {},
   "source": [
    "### 7. Sigmoid"
   ]
  },
  {
   "cell_type": "code",
   "execution_count": 29,
   "metadata": {},
   "outputs": [],
   "source": [
    "torch_out = torch.sigmoid(inputs,  out=None)\n",
    "torch_out = torch_out.numpy()\n",
    "torch_out = np.around(torch_out, decimals=4, out=None)\n",
    "\n",
    "def sigmoid(x):\n",
    "        return 1.0/(1+np.exp(-x))\n",
    "my_out = input_np\n",
    "my_out = sigmoid(my_out)\n",
    "my_out = np.around(my_out, decimals=4, out=None)"
   ]
  },
  {
   "cell_type": "markdown",
   "metadata": {},
   "source": [
    "####  torch_out and my_out of Sigmoid are equal up to 4 dicimal digits"
   ]
  },
  {
   "cell_type": "code",
   "execution_count": 30,
   "metadata": {},
   "outputs": [
    {
     "data": {
      "text/plain": [
       "True"
      ]
     },
     "execution_count": 30,
     "metadata": {},
     "output_type": "execute_result"
    }
   ],
   "source": [
    "(torch_out == my_out).all()"
   ]
  },
  {
   "cell_type": "markdown",
   "metadata": {},
   "source": [
    "### 8. ROI pooling\n",
    "ROI(region of interest)take the region of each channel/feature maps with the box specifying the coordinates (x1,y1,x2,y2). Then maxpooling is applied on the ROI box with the kernel size specified with output_size parameter here."
   ]
  },
  {
   "cell_type": "code",
   "execution_count": 15,
   "metadata": {},
   "outputs": [
    {
     "data": {
      "text/plain": [
       "array([[[[1.645867 ]],\n",
       "\n",
       "        [[0.8777172]],\n",
       "\n",
       "        [[1.8793321]]]], dtype=float32)"
      ]
     },
     "execution_count": 15,
     "metadata": {},
     "output_type": "execute_result"
    }
   ],
   "source": [
    "rois_in_feature = torch.Tensor([[0, 0, 0, 3, 3]])\n",
    "import torchvision\n",
    "torch_out =torchvision.ops.roi_pool(input = inputs,  boxes=rois_in_feature, output_size = 1,spatial_scale = 1.0)\n",
    "torch_out = torch_out.numpy()\n",
    "torch_out"
   ]
  },
  {
   "cell_type": "code",
   "execution_count": 16,
   "metadata": {},
   "outputs": [
    {
     "name": "stdout",
     "output_type": "stream",
     "text": [
      "[array([[[[1.64586699]],\n",
      "\n",
      "        [[0.8777172 ]],\n",
      "\n",
      "        [[1.87933207]]]])]\n"
     ]
    }
   ],
   "source": [
    "def roi_pooling(feature_map, rois, size=(1, 1)):\n",
    "    \"\"\"\n",
    "    :param feature_map: (1, C, H, W)\n",
    "    :param rois: (1, N, 4) N refers to bbox num, 4 represent (ltx, lty, w, h) \n",
    "    :param size: output size\n",
    "    :return: (1, C, size[0], size[1])\n",
    "    \"\"\"\n",
    "    output = []\n",
    "    rois_num = rois.size(1)\n",
    "\n",
    "    for i in range(rois_num):\n",
    "        roi = rois[0][i]\n",
    "        x, y, w, h = roi\n",
    "        \n",
    "        output.append(pool2d(feature_map[:, :, y:y+h+1, x:x+w+1], 4,1,0, pool_mode='max'))\n",
    "    return output\n",
    "\n",
    "if __name__ == '__main__':\n",
    "    test_tensor = inputs\n",
    "    #test_tensor = test_tensor.view(1, 1, 8, 8)\n",
    "    rois = torch.tensor([[0, 0, 3, 3]])\n",
    "    rois = rois.view(1, -1, 4)\n",
    "    \n",
    "    my_out = roi_pooling(input_np, rois, (1, 1))\n",
    "    print(output)"
   ]
  },
  {
   "cell_type": "code",
   "execution_count": 18,
   "metadata": {},
   "outputs": [
    {
     "data": {
      "text/plain": [
       "True"
      ]
     },
     "execution_count": 18,
     "metadata": {},
     "output_type": "execute_result"
    }
   ],
   "source": [
    "(torch_out == my_out).all()"
   ]
  },
  {
   "attachments": {
    "Screen%20Shot%202021-04-16%20at%204.42.00%20pm.png": {
     "image/png": "[encoded data removed]"
    }
   },
   "cell_type": "markdown",
   "metadata": {},
   "source": [
    "### 9. batch norm\n",
    "Batch normalization is a technique for training very deep neural networks that standardizes the inputs to a layer for each mini-batch. This has the effect of stabilizing the learning process and dramatically reducing the number of training epochs required to train deep networks\n",
    "![Screen%20Shot%202021-04-16%20at%204.42.00%20pm.png](attachment:Screen%20Shot%202021-04-16%20at%204.42.00%20pm.png)"
   ]
  },
  {
   "cell_type": "code",
   "execution_count": 244,
   "metadata": {},
   "outputs": [
    {
     "data": {
      "text/plain": [
       "torch.Size([1, 3, 32, 32])"
      ]
     },
     "execution_count": 244,
     "metadata": {},
     "output_type": "execute_result"
    }
   ],
   "source": [
    "#https://github.com/pytorch/pytorch/issues/7577\n",
    "mean = inputs.view(3,-1)\n",
    "running_mean = torch.mean(mean, 1)\n",
    "var = inputs.view(3,-1)\n",
    "running_var = torch.var(var, 1)\n",
    "torch_out =torch.nn.functional.batch_norm(inputs, running_mean, running_var,weight=None, bias=None, training=False, momentum=0.1,eps=1e-05)\n",
    "#torch_out = torch_out.numpy()\n",
    "torch_out.shape\n",
    "#torch_out =np.around(torch_out, decimals=1, out=None)"
   ]
  },
  {
   "cell_type": "code",
   "execution_count": 245,
   "metadata": {},
   "outputs": [
    {
     "data": {
      "text/plain": [
       "(1, 3, 32, 32)"
      ]
     },
     "execution_count": 245,
     "metadata": {},
     "output_type": "execute_result"
    }
   ],
   "source": [
    "def batchnorm_forward(x,  running_mean, running_var, mode , momentum,eps ):\n",
    "    N, C, H, W = x.shape\n",
    "    out= None\n",
    "    if mode == 'train':\n",
    "        sample_mean = running_mean\n",
    "        sample_var = running_var\n",
    "\n",
    "        # Normalization followed by Affine transformation\n",
    "        x_normalized = (x[0,:,:,:] - sample_mean.reshape(( 1,C, 1, 1)))/np.sqrt(sample_var.reshape(( 1,C, 1, 1)) + eps)\n",
    "        out = x_normalized\n",
    "\n",
    "        # Estimate running average of mean and variance to use at test time\n",
    "        running_mean = momentum * running_mean + (1 - momentum) * sample_mean\n",
    "        running_var = momentum * running_var + (1 - momentum) * sample_var\n",
    "        \n",
    "    elif mode == 'test':\n",
    "        # normalize using running average\n",
    "        running_mean = momentum * running_mean + (1 - momentum) * running_mean\n",
    "        running_var = momentum * running_var + (1 - momentum) * running_var\n",
    "        x_normalized = (x[0,:,:,:] - running_mean.reshape(( 1,C, 1, 1)))/np.sqrt(running_var.reshape((1, C, 1, 1)) + eps)\n",
    "        # Learned affine transformation\n",
    "        out = x_normalized \n",
    "    return out\n",
    "running_mean = running_mean.numpy()\n",
    "running_var = running_var.numpy()\n",
    "my_out = batchnorm_forward(input_np,  running_mean, running_var,  'test', 0.1,1e-05 )\n",
    "#my_out = np.around(my_out, decimals=1, out=None)\n",
    "my_out.shape"
   ]
  },
  {
   "cell_type": "code",
   "execution_count": 246,
   "metadata": {},
   "outputs": [
    {
     "data": {
      "text/plain": [
       "tensor(True)"
      ]
     },
     "execution_count": 246,
     "metadata": {},
     "output_type": "execute_result"
    }
   ],
   "source": [
    "(torch_out - my_out<=0.000001).all()"
   ]
  },
  {
   "attachments": {
    "Screen%20Shot%202021-04-16%20at%204.38.18%20pm.png": {
     "image/png": "[encoded data removed]"
    },
    "Screen%20Shot%202021-04-16%20at%204.39.29%20pm.png": {
     "image/png": "[encoded data removed]"
    }
   },
   "cell_type": "markdown",
   "metadata": {},
   "source": [
    "### 10. Cross Entropy\n",
    "\n",
    "This criterion combines LogSoftmax and NLLLoss in one single class.\n",
    "\n",
    "It is useful when training a classification problem with C classes, calculating the probability of each class for an input between 0 and 1 (sum up to 1), \n",
    "\n",
    "The loss of one class is:\n",
    "![Screen%20Shot%202021-04-16%20at%204.38.18%20pm.png](attachment:Screen%20Shot%202021-04-16%20at%204.38.18%20pm.png)\n",
    "Then the losses are averaged with weights(if no weights, then normal average):\n",
    "![Screen%20Shot%202021-04-16%20at%204.39.29%20pm.png](attachment:Screen%20Shot%202021-04-16%20at%204.39.29%20pm.png)"
   ]
  },
  {
   "cell_type": "code",
   "execution_count": 154,
   "metadata": {},
   "outputs": [
    {
     "data": {
      "text/plain": [
       "tensor(1.3753)"
      ]
     },
     "execution_count": 154,
     "metadata": {},
     "output_type": "execute_result"
    }
   ],
   "source": [
    "#target = torch.randint(1, 32, 32)\n",
    "#target = target.type(torch.LongTensor)\n",
    "target = torch.randint(3, (1,32,32), dtype=torch.int64)\n",
    "torch_out = torch.nn.functional.cross_entropy(inputs, target, weight=None,\n",
    "size_average=None, ignore_index=-100, reduce=None,reduction='mean')\n",
    "torch_out                                              "
   ]
  },
  {
   "cell_type": "code",
   "execution_count": 188,
   "metadata": {},
   "outputs": [
    {
     "data": {
      "text/plain": [
       "tensor(1.3753)"
      ]
     },
     "execution_count": 188,
     "metadata": {},
     "output_type": "execute_result"
    }
   ],
   "source": [
    "def compute_loss(softmax, target):\n",
    "    loss_list = torch.zeros([len(input)])\n",
    "    for k in range(len(softmax)):\n",
    "        loss = 0\n",
    "        for i in range(target[k].shape[1]):\n",
    "            for j in range(target.shape[2]):\n",
    "                index = target[k, i, j]\n",
    "                num = softmax[k, index, i ,j]\n",
    "                loss -= num\n",
    "        loss_list[k] = -loss / target.shape[1] / target.shape[2]\n",
    "    return loss_list.mean()\n",
    "\n",
    "def cross_entropy(x, target):\n",
    "    #compute softmax\n",
    "    x_log_softmax = torch.zeros(x.shape)\n",
    "    for i in range(len(x)):\n",
    "        exp = torch.exp(x[i])\n",
    "        sum = torch.sum(exp, dim=0)\n",
    "        softmax = exp/sum\n",
    "        x_log_softmax[i] = -torch.log(softmax)\n",
    "\n",
    "    ce = compute_loss(x_log_softmax, target)\n",
    "    return ce\n",
    "my_out = cross_entropy(inputs, target)\n",
    "my_out"
   ]
  },
  {
   "cell_type": "code",
   "execution_count": 180,
   "metadata": {},
   "outputs": [
    {
     "data": {
      "text/plain": [
       "tensor(True)"
      ]
     },
     "execution_count": 180,
     "metadata": {},
     "output_type": "execute_result"
    }
   ],
   "source": [
    "torch_out == my_out"
   ]
  },
  {
   "cell_type": "markdown",
   "metadata": {},
   "source": [
    "### 11. MSE Loss ( mean squared error between inputs and target)"
   ]
  },
  {
   "cell_type": "code",
   "execution_count": 40,
   "metadata": {},
   "outputs": [
    {
     "data": {
      "text/plain": [
       "tensor(1.9750)"
      ]
     },
     "execution_count": 40,
     "metadata": {},
     "output_type": "execute_result"
    }
   ],
   "source": [
    "target = torch.randn(1,3, 32, 32)\n",
    "#Input: (N, *)(N,∗) where *∗ means, any number of additional dimensions\n",
    "#Target: (N, *)(N,∗) , same shape as the input\n",
    "torch_out =torch.nn.functional.mse_loss(inputs, target, size_average=None,reduce=None, reduction='mean')\n",
    "torch_out                                             "
   ]
  },
  {
   "cell_type": "code",
   "execution_count": 44,
   "metadata": {},
   "outputs": [
    {
     "name": "stdout",
     "output_type": "stream",
     "text": [
      "tensor(1.9750)\n"
     ]
    }
   ],
   "source": [
    "def mse_loss(input, target):\n",
    "    square = (input - target)**2\n",
    "    return square.mean()\n",
    "my_out = mse_loss(inputs, target)\n",
    "print(my_out)"
   ]
  },
  {
   "cell_type": "code",
   "execution_count": 45,
   "metadata": {},
   "outputs": [
    {
     "data": {
      "text/plain": [
       "tensor(True)"
      ]
     },
     "execution_count": 45,
     "metadata": {},
     "output_type": "execute_result"
    }
   ],
   "source": [
    "torch_out == my_out"
   ]
  }
 ],
 "metadata": {
  "kernelspec": {
   "display_name": "Python 3",
   "language": "python",
   "name": "python3"
  },
  "language_info": {
   "codemirror_mode": {
    "name": "ipython",
    "version": 3
   },
   "file_extension": ".py",
   "mimetype": "text/x-python",
   "name": "python",
   "nbconvert_exporter": "python",
   "pygments_lexer": "ipython3",
   "version": "3.7.4"
  }
 },
 "nbformat": 4,
 "nbformat_minor": 2
}
