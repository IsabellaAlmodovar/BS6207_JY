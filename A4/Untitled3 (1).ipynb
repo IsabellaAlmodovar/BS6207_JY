{
 "cells": [
  {
   "cell_type": "code",
   "execution_count": 9,
   "metadata": {},
   "outputs": [
    {
     "name": "stderr",
     "output_type": "stream",
     "text": [
      "/Users/yanjiao/opt/anaconda3/lib/python3.7/site-packages/statsmodels/tools/_testing.py:19: FutureWarning: pandas.util.testing is deprecated. Use the functions in the public API at pandas.testing instead.\n",
      "  import pandas.util.testing as tm\n"
     ]
    }
   ],
   "source": [
    "import glob\n",
    "import os\n",
    "import numpy as np\n",
    "import shutil\n",
    "import time\n",
    "import matplotlib.pyplot as plt\n",
    "import seaborn as sns"
   ]
  },
  {
   "cell_type": "code",
   "execution_count": 3,
   "metadata": {},
   "outputs": [],
   "source": [
    "data_dir=r'/Users/yanjiao/Downloads/BS6207-assignment4'\n",
    "artifacts_dir=\"artifacts\"\n",
    "cancer_regions='cancer_regions'\n",
    "normal_regions='normal_regions'\n",
    "other='other'"
   ]
  },
  {
   "cell_type": "code",
   "execution_count": 10,
   "metadata": {},
   "outputs": [],
   "source": [
    "\n",
    "def return_sort_image_list(data_dir,file_dir):\n",
    "    file_list=os.listdir(os.path.join(data_dir, file_dir))\n",
    "    li=[]\n",
    "    for file in file_list:\n",
    "        num=int(file.split('.')[0])\n",
    "        li.append(num)\n",
    "    li.sort()\n",
    "    return_list=[]\n",
    "    for i in li:\n",
    "        name=str(i)+'.png'\n",
    "        return_list.append(name)\n",
    "    return return_list"
   ]
  },
  {
   "cell_type": "code",
   "execution_count": 11,
   "metadata": {},
   "outputs": [],
   "source": [
    "artifacts_li=return_sort_image_list(data_dir,artifacts_dir)\n",
    "cancer_li=return_sort_image_list(data_dir,cancer_regions)\n",
    "normal_li=return_sort_image_list(data_dir,normal_regions)\n",
    "other_li=return_sort_image_list(data_dir,other)"
   ]
  },
  {
   "cell_type": "code",
   "execution_count": null,
   "metadata": {},
   "outputs": [],
   "source": []
  },
  {
   "cell_type": "code",
   "execution_count": null,
   "metadata": {},
   "outputs": [],
   "source": []
  },
  {
   "cell_type": "code",
   "execution_count": 12,
   "metadata": {},
   "outputs": [],
   "source": [
    "from PIL import Image\n",
    "def mkdir_if_not_exist(path): \n",
    "    if not os.path.exists(path):\n",
    "        os.makedirs(path)\n",
    "def change_name(data_dir,file_dir,file_list):\n",
    "    i = 0\n",
    "    new_path = data_dir+\"/new\"\n",
    "    new_name_list = []\n",
    "    for image_name in file_list:\n",
    "        path = os.path.join(data_dir,file_dir,image_name)\n",
    "        im = Image.open(path)\n",
    "        new_name = file_dir + \"_{}.png\".format(str(i))\n",
    "        save_path = os.path.join(new_path,file_dir)\n",
    "        mkdir_if_not_exist(save_path)\n",
    "        im.save(os.path.join(new_path,file_dir,new_name))\n",
    "        new_name_list.append(new_name)\n",
    "        i = i+1\n",
    "    return new_name_list   "
   ]
  },
  {
   "cell_type": "code",
   "execution_count": 13,
   "metadata": {},
   "outputs": [
    {
     "ename": "KeyboardInterrupt",
     "evalue": "",
     "output_type": "error",
     "traceback": [
      "\u001b[0;31m---------------------------------------------------------------------------\u001b[0m",
      "\u001b[0;31mAttributeError\u001b[0m                            Traceback (most recent call last)",
      "\u001b[0;32m~/opt/anaconda3/lib/python3.7/site-packages/PIL/ImageFile.py\u001b[0m in \u001b[0;36m_save\u001b[0;34m(im, fp, tile, bufsize)\u001b[0m\n\u001b[1;32m    497\u001b[0m     \u001b[0;32mtry\u001b[0m\u001b[0;34m:\u001b[0m\u001b[0;34m\u001b[0m\u001b[0;34m\u001b[0m\u001b[0m\n\u001b[0;32m--> 498\u001b[0;31m         \u001b[0mfh\u001b[0m \u001b[0;34m=\u001b[0m \u001b[0mfp\u001b[0m\u001b[0;34m.\u001b[0m\u001b[0mfileno\u001b[0m\u001b[0;34m(\u001b[0m\u001b[0;34m)\u001b[0m\u001b[0;34m\u001b[0m\u001b[0;34m\u001b[0m\u001b[0m\n\u001b[0m\u001b[1;32m    499\u001b[0m         \u001b[0mfp\u001b[0m\u001b[0;34m.\u001b[0m\u001b[0mflush\u001b[0m\u001b[0;34m(\u001b[0m\u001b[0;34m)\u001b[0m\u001b[0;34m\u001b[0m\u001b[0;34m\u001b[0m\u001b[0m\n",
      "\u001b[0;31mAttributeError\u001b[0m: '_idat' object has no attribute 'fileno'",
      "\nDuring handling of the above exception, another exception occurred:\n",
      "\u001b[0;31mKeyboardInterrupt\u001b[0m                         Traceback (most recent call last)",
      "\u001b[0;32m<ipython-input-13-0ec13576064b>\u001b[0m in \u001b[0;36m<module>\u001b[0;34m\u001b[0m\n\u001b[1;32m      1\u001b[0m \u001b[0martifacts_new_li\u001b[0m\u001b[0;34m=\u001b[0m\u001b[0mchange_name\u001b[0m\u001b[0;34m(\u001b[0m\u001b[0mdata_dir\u001b[0m\u001b[0;34m,\u001b[0m\u001b[0martifacts_dir\u001b[0m\u001b[0;34m,\u001b[0m\u001b[0martifacts_li\u001b[0m\u001b[0;34m)\u001b[0m\u001b[0;34m\u001b[0m\u001b[0;34m\u001b[0m\u001b[0m\n\u001b[1;32m      2\u001b[0m \u001b[0mcancer__new_li\u001b[0m\u001b[0;34m=\u001b[0m\u001b[0mchange_name\u001b[0m\u001b[0;34m(\u001b[0m\u001b[0mdata_dir\u001b[0m\u001b[0;34m,\u001b[0m\u001b[0mcancer_regions\u001b[0m\u001b[0;34m,\u001b[0m\u001b[0mcancer_li\u001b[0m\u001b[0;34m)\u001b[0m\u001b[0;34m\u001b[0m\u001b[0;34m\u001b[0m\u001b[0m\n\u001b[0;32m----> 3\u001b[0;31m \u001b[0mnormal_new_li\u001b[0m\u001b[0;34m=\u001b[0m\u001b[0mchange_name\u001b[0m\u001b[0;34m(\u001b[0m\u001b[0mdata_dir\u001b[0m\u001b[0;34m,\u001b[0m\u001b[0mnormal_regions\u001b[0m\u001b[0;34m,\u001b[0m\u001b[0mnormal_li\u001b[0m\u001b[0;34m)\u001b[0m\u001b[0;34m\u001b[0m\u001b[0;34m\u001b[0m\u001b[0m\n\u001b[0m\u001b[1;32m      4\u001b[0m \u001b[0mother_new_li\u001b[0m\u001b[0;34m=\u001b[0m\u001b[0mchange_name\u001b[0m\u001b[0;34m(\u001b[0m\u001b[0mdata_dir\u001b[0m\u001b[0;34m,\u001b[0m\u001b[0mother\u001b[0m\u001b[0;34m,\u001b[0m\u001b[0mother_li\u001b[0m\u001b[0;34m)\u001b[0m\u001b[0;34m\u001b[0m\u001b[0;34m\u001b[0m\u001b[0m\n",
      "\u001b[0;32m<ipython-input-12-071d762d47c3>\u001b[0m in \u001b[0;36mchange_name\u001b[0;34m(data_dir, file_dir, file_list)\u001b[0m\n\u001b[1;32m     13\u001b[0m         \u001b[0msave_path\u001b[0m \u001b[0;34m=\u001b[0m \u001b[0mos\u001b[0m\u001b[0;34m.\u001b[0m\u001b[0mpath\u001b[0m\u001b[0;34m.\u001b[0m\u001b[0mjoin\u001b[0m\u001b[0;34m(\u001b[0m\u001b[0mnew_path\u001b[0m\u001b[0;34m,\u001b[0m\u001b[0mfile_dir\u001b[0m\u001b[0;34m)\u001b[0m\u001b[0;34m\u001b[0m\u001b[0;34m\u001b[0m\u001b[0m\n\u001b[1;32m     14\u001b[0m         \u001b[0mmkdir_if_not_exist\u001b[0m\u001b[0;34m(\u001b[0m\u001b[0msave_path\u001b[0m\u001b[0;34m)\u001b[0m\u001b[0;34m\u001b[0m\u001b[0;34m\u001b[0m\u001b[0m\n\u001b[0;32m---> 15\u001b[0;31m         \u001b[0mim\u001b[0m\u001b[0;34m.\u001b[0m\u001b[0msave\u001b[0m\u001b[0;34m(\u001b[0m\u001b[0mos\u001b[0m\u001b[0;34m.\u001b[0m\u001b[0mpath\u001b[0m\u001b[0;34m.\u001b[0m\u001b[0mjoin\u001b[0m\u001b[0;34m(\u001b[0m\u001b[0mnew_path\u001b[0m\u001b[0;34m,\u001b[0m\u001b[0mfile_dir\u001b[0m\u001b[0;34m,\u001b[0m\u001b[0mnew_name\u001b[0m\u001b[0;34m)\u001b[0m\u001b[0;34m)\u001b[0m\u001b[0;34m\u001b[0m\u001b[0;34m\u001b[0m\u001b[0m\n\u001b[0m\u001b[1;32m     16\u001b[0m         \u001b[0mnew_name_list\u001b[0m\u001b[0;34m.\u001b[0m\u001b[0mappend\u001b[0m\u001b[0;34m(\u001b[0m\u001b[0mnew_name\u001b[0m\u001b[0;34m)\u001b[0m\u001b[0;34m\u001b[0m\u001b[0;34m\u001b[0m\u001b[0m\n\u001b[1;32m     17\u001b[0m         \u001b[0mi\u001b[0m \u001b[0;34m=\u001b[0m \u001b[0mi\u001b[0m\u001b[0;34m+\u001b[0m\u001b[0;36m1\u001b[0m\u001b[0;34m\u001b[0m\u001b[0;34m\u001b[0m\u001b[0m\n",
      "\u001b[0;32m~/opt/anaconda3/lib/python3.7/site-packages/PIL/Image.py\u001b[0m in \u001b[0;36msave\u001b[0;34m(self, fp, format, **params)\u001b[0m\n\u001b[1;32m   2082\u001b[0m \u001b[0;34m\u001b[0m\u001b[0m\n\u001b[1;32m   2083\u001b[0m         \u001b[0;32mtry\u001b[0m\u001b[0;34m:\u001b[0m\u001b[0;34m\u001b[0m\u001b[0;34m\u001b[0m\u001b[0m\n\u001b[0;32m-> 2084\u001b[0;31m             \u001b[0msave_handler\u001b[0m\u001b[0;34m(\u001b[0m\u001b[0mself\u001b[0m\u001b[0;34m,\u001b[0m \u001b[0mfp\u001b[0m\u001b[0;34m,\u001b[0m \u001b[0mfilename\u001b[0m\u001b[0;34m)\u001b[0m\u001b[0;34m\u001b[0m\u001b[0;34m\u001b[0m\u001b[0m\n\u001b[0m\u001b[1;32m   2085\u001b[0m         \u001b[0;32mfinally\u001b[0m\u001b[0;34m:\u001b[0m\u001b[0;34m\u001b[0m\u001b[0;34m\u001b[0m\u001b[0m\n\u001b[1;32m   2086\u001b[0m             \u001b[0;31m# do what we can to clean up\u001b[0m\u001b[0;34m\u001b[0m\u001b[0;34m\u001b[0m\u001b[0;34m\u001b[0m\u001b[0m\n",
      "\u001b[0;32m~/opt/anaconda3/lib/python3.7/site-packages/PIL/PngImagePlugin.py\u001b[0m in \u001b[0;36m_save\u001b[0;34m(im, fp, filename, chunk)\u001b[0m\n\u001b[1;32m    908\u001b[0m         \u001b[0mchunk\u001b[0m\u001b[0;34m(\u001b[0m\u001b[0mfp\u001b[0m\u001b[0;34m,\u001b[0m \u001b[0;34mb\"eXIf\"\u001b[0m\u001b[0;34m,\u001b[0m \u001b[0mexif\u001b[0m\u001b[0;34m)\u001b[0m\u001b[0;34m\u001b[0m\u001b[0;34m\u001b[0m\u001b[0m\n\u001b[1;32m    909\u001b[0m \u001b[0;34m\u001b[0m\u001b[0m\n\u001b[0;32m--> 910\u001b[0;31m     \u001b[0mImageFile\u001b[0m\u001b[0;34m.\u001b[0m\u001b[0m_save\u001b[0m\u001b[0;34m(\u001b[0m\u001b[0mim\u001b[0m\u001b[0;34m,\u001b[0m \u001b[0m_idat\u001b[0m\u001b[0;34m(\u001b[0m\u001b[0mfp\u001b[0m\u001b[0;34m,\u001b[0m \u001b[0mchunk\u001b[0m\u001b[0;34m)\u001b[0m\u001b[0;34m,\u001b[0m \u001b[0;34m[\u001b[0m\u001b[0;34m(\u001b[0m\u001b[0;34m\"zip\"\u001b[0m\u001b[0;34m,\u001b[0m \u001b[0;34m(\u001b[0m\u001b[0;36m0\u001b[0m\u001b[0;34m,\u001b[0m \u001b[0;36m0\u001b[0m\u001b[0;34m)\u001b[0m \u001b[0;34m+\u001b[0m \u001b[0mim\u001b[0m\u001b[0;34m.\u001b[0m\u001b[0msize\u001b[0m\u001b[0;34m,\u001b[0m \u001b[0;36m0\u001b[0m\u001b[0;34m,\u001b[0m \u001b[0mrawmode\u001b[0m\u001b[0;34m)\u001b[0m\u001b[0;34m]\u001b[0m\u001b[0;34m)\u001b[0m\u001b[0;34m\u001b[0m\u001b[0;34m\u001b[0m\u001b[0m\n\u001b[0m\u001b[1;32m    911\u001b[0m \u001b[0;34m\u001b[0m\u001b[0m\n\u001b[1;32m    912\u001b[0m     \u001b[0mchunk\u001b[0m\u001b[0;34m(\u001b[0m\u001b[0mfp\u001b[0m\u001b[0;34m,\u001b[0m \u001b[0;34mb\"IEND\"\u001b[0m\u001b[0;34m,\u001b[0m \u001b[0;34mb\"\"\u001b[0m\u001b[0;34m)\u001b[0m\u001b[0;34m\u001b[0m\u001b[0;34m\u001b[0m\u001b[0m\n",
      "\u001b[0;32m~/opt/anaconda3/lib/python3.7/site-packages/PIL/ImageFile.py\u001b[0m in \u001b[0;36m_save\u001b[0;34m(im, fp, tile, bufsize)\u001b[0m\n\u001b[1;32m    510\u001b[0m             \u001b[0;32melse\u001b[0m\u001b[0;34m:\u001b[0m\u001b[0;34m\u001b[0m\u001b[0;34m\u001b[0m\u001b[0m\n\u001b[1;32m    511\u001b[0m                 \u001b[0;32mwhile\u001b[0m \u001b[0;32mTrue\u001b[0m\u001b[0;34m:\u001b[0m\u001b[0;34m\u001b[0m\u001b[0;34m\u001b[0m\u001b[0m\n\u001b[0;32m--> 512\u001b[0;31m                     \u001b[0ml\u001b[0m\u001b[0;34m,\u001b[0m \u001b[0ms\u001b[0m\u001b[0;34m,\u001b[0m \u001b[0md\u001b[0m \u001b[0;34m=\u001b[0m \u001b[0me\u001b[0m\u001b[0;34m.\u001b[0m\u001b[0mencode\u001b[0m\u001b[0;34m(\u001b[0m\u001b[0mbufsize\u001b[0m\u001b[0;34m)\u001b[0m\u001b[0;34m\u001b[0m\u001b[0;34m\u001b[0m\u001b[0m\n\u001b[0m\u001b[1;32m    513\u001b[0m                     \u001b[0mfp\u001b[0m\u001b[0;34m.\u001b[0m\u001b[0mwrite\u001b[0m\u001b[0;34m(\u001b[0m\u001b[0md\u001b[0m\u001b[0;34m)\u001b[0m\u001b[0;34m\u001b[0m\u001b[0;34m\u001b[0m\u001b[0m\n\u001b[1;32m    514\u001b[0m                     \u001b[0;32mif\u001b[0m \u001b[0ms\u001b[0m\u001b[0;34m:\u001b[0m\u001b[0;34m\u001b[0m\u001b[0;34m\u001b[0m\u001b[0m\n",
      "\u001b[0;31mKeyboardInterrupt\u001b[0m: "
     ]
    }
   ],
   "source": [
    "artifacts_new_li=change_name(data_dir,artifacts_dir,artifacts_li)\n",
    "cancer__new_li=change_name(data_dir,cancer_regions,cancer_li)\n",
    "normal_new_li=change_name(data_dir,normal_regions,normal_li)\n",
    "other_new_li=change_name(data_dir,other,other_li)"
   ]
  },
  {
   "cell_type": "code",
   "execution_count": null,
   "metadata": {},
   "outputs": [],
   "source": []
  },
  {
   "cell_type": "code",
   "execution_count": 7,
   "metadata": {},
   "outputs": [],
   "source": [
    "all_image_files=glob.glob(os.path.join(data_dir,artifacts_dir,\"*\"))\\\n",
    "+glob.glob(os.path.join(data_dir,cancer_regions,\"*\"))\\\n",
    "+glob.glob(os.path.join(data_dir,normal_regions,\"*\"))\\\n",
    "+glob.glob(os.path.join(data_dir,other,\"*\"))"
   ]
  },
  {
   "cell_type": "code",
   "execution_count": null,
   "metadata": {},
   "outputs": [],
   "source": [
    "\n",
    "import cv2\n",
    "# calculate means and std\n",
    " \n",
    "img_h, img_w = 128, 128\n",
    "imgs = np.zeros([img_w, img_h, 3, 1])\n",
    "means, stdevs = [], []\n",
    "\n",
    "\n",
    "all_image_files=glob.glob(os.path.join(data_dir,artifacts_dir,\"*\"))\\\n",
    "+glob.glob(os.path.join(data_dir,cancer_regions,\"*\"))\\\n",
    "+glob.glob(os.path.join(data_dir,normal_regions,\"*\"))\\\n",
    "+glob.glob(os.path.join(data_dir,other,\"*\"))\n",
    "\n",
    "for i in range(len(all_image_files)):\n",
    "    img_path = all_image_files[i]\n",
    "    img = cv2.imread(img_path)\n",
    "    img = img[:, :, :, np.newaxis]    \n",
    "    imgs = np.concatenate((imgs, img), axis=3)\n",
    "imgs = imgs.astype(np.float32)/255"
   ]
  },
  {
   "cell_type": "code",
   "execution_count": null,
   "metadata": {},
   "outputs": [],
   "source": []
  },
  {
   "cell_type": "code",
   "execution_count": null,
   "metadata": {},
   "outputs": [],
   "source": []
  },
  {
   "cell_type": "code",
   "execution_count": null,
   "metadata": {},
   "outputs": [],
   "source": []
  },
  {
   "cell_type": "code",
   "execution_count": 15,
   "metadata": {},
   "outputs": [
    {
     "data": {
      "text/plain": [
       "'/Users/yanjiao/Downloads/BS6207-assignment4/new/train_valid_Set'"
      ]
     },
     "execution_count": 15,
     "metadata": {},
     "output_type": "execute_result"
    }
   ],
   "source": [
    "train_dir=os.path.join(data_dir,'new','trainSet')\n",
    "train_valid_dir=os.path.join(data_dir,'new','train_valid_Set')\n",
    "valid_dir=os.path.join(data_dir,'new','validSet')\n",
    "test_dir=os.path.join(data_dir,'new','testSet')\n",
    "train_valid_dir"
   ]
  },
  {
   "cell_type": "code",
   "execution_count": 74,
   "metadata": {},
   "outputs": [],
   "source": [
    "def copy_to_files(new_data_dir,data_dir,file_dir,file_list,test_size,valid_ratio):\n",
    "    train_dir,valid_dir,test_dir,train_valid_dir=new_data_dir\n",
    "    train_dir=train_dir+'/'+file_dir\n",
    "    valid_dir=valid_dir+\"/\"+file_dir\n",
    "    test_dir=test_dir+\"/\"+file_dir\n",
    "    trian_valid_dir=train_valid_dir+\"/\"+file_dir\n",
    "    \n",
    "    mkdir_if_not_exist(train_dir)\n",
    "    mkdir_if_not_exist(valid_dir)\n",
    "    mkdir_if_not_exist(test_dir)\n",
    "    mkdir_if_not_exist(trian_valid_dir)\n",
    "    \n",
    "    #get test_files\n",
    "    test_lists=file_list[0:test_size]    \n",
    "    \n",
    "    #get train and valid files\n",
    "    remain_list=list(set(file_list)-set(test_lists))\n",
    "    \n",
    "    #copy to train_set\n",
    "    for i_name in remain_list:\n",
    "        shutil.copy(os.path.join(data_dir,'new',file_dir,i_name),train_valid_dir+'/'+i_name)\n",
    "    \n",
    "    valid_lists=np.random.choice(remain_list,size=int(len(remain_list)*valid_ratio),replace=False)\n",
    "    train_lists=list(set(remain_list)-set(valid_lists))\n",
    "    np.random.shuffle(train_lists)\n",
    "    \n",
    "\n",
    "    \n",
    "    #copy to train_set\n",
    "    for i_name in train_lists:\n",
    "        shutil.copy(os.path.join(data_dir,'new',file_dir,i_name),train_dir+'/'+i_name)\n",
    "        \n",
    "    #copy to valid_set\n",
    "    for i_name in valid_lists:\n",
    "        shutil.copy(os.path.join(data_dir,'new',file_dir,i_name),valid_dir+'/'+i_name)\n",
    "        \n",
    "    #copy to test_set\n",
    "    for i_name in test_lists:\n",
    "        shutil.copy(os.path.join(data_dir,'new',file_dir,i_name),test_dir+\"/\"+i_name)"
   ]
  },
  {
   "cell_type": "code",
   "execution_count": 75,
   "metadata": {},
   "outputs": [],
   "source": [
    "new_data_dir=[train_dir,valid_dir,test_dir,train_valid_dir]\n",
    "copy_to_files(new_data_dir,data_dir,artifacts_dir,artifacts_new_li,100,0.2)\n",
    "copy_to_files(new_data_dir,data_dir,cancer_regions,cancer__new_li,100,0.2)\n",
    "copy_to_files(new_data_dir,data_dir,normal_regions,normal_new_li,100,0.2)\n",
    "copy_to_files(new_data_dir,data_dir,other,other_new_li,100,0.2)"
   ]
  },
  {
   "cell_type": "code",
   "execution_count": null,
   "metadata": {},
   "outputs": [],
   "source": []
  },
  {
   "cell_type": "code",
   "execution_count": 16,
   "metadata": {},
   "outputs": [],
   "source": [
    "from torchvision import transforms\n",
    "from torchvision.datasets import ImageFolder\n",
    "from torch.utils.data import DataLoader\n",
    "train_transform=transforms.Compose([\n",
    "    transforms.RandomResizedCrop(128, scale=(0.64, 1.0),ratio=(1.0,1.0)),\n",
    "    transforms.RandomHorizontalFlip(),\n",
    "    transforms.ColorJitter(brightness=0.4, contrast=0.4, saturation=0.4),\n",
    "    transforms.ToTensor(),\n",
    "   \n",
    "])\n",
    "\n",
    "test_transform=transforms.Compose([\n",
    "    transforms.ToTensor(),\n",
    "   \n",
    "])\n",
    "\n",
    "#generate dataloader\n",
    "train_ds=ImageFolder(train_dir,transform=train_transform)\n",
    "valid_ds=ImageFolder(valid_dir,transform=test_transform)\n",
    "test_ds=ImageFolder(test_dir,transform=test_transform)"
   ]
  },
  {
   "cell_type": "code",
   "execution_count": 17,
   "metadata": {},
   "outputs": [],
   "source": []
  },
  {
   "cell_type": "code",
   "execution_count": null,
   "metadata": {},
   "outputs": [],
   "source": []
  },
  {
   "cell_type": "code",
   "execution_count": null,
   "metadata": {},
   "outputs": [],
   "source": []
  },
  {
   "cell_type": "code",
   "execution_count": null,
   "metadata": {},
   "outputs": [],
   "source": []
  },
  {
   "cell_type": "code",
   "execution_count": 28,
   "metadata": {},
   "outputs": [],
   "source": [
    "import torch.nn as nn\n",
    "import torch.nn.functional as F\n",
    "\n",
    "class Net(nn.Module):\n",
    "    def __init__(self):\n",
    "        super().__init__()\n",
    "        self.conv1 = nn.Conv2d(3, 64, 3, padding=1, stride=2)\n",
    "        self.batchnorm1 = nn.BatchNorm2d(64)\n",
    "        self.pool1 = nn.MaxPool2d(2, 2)\n",
    "        self.conv2 = nn.Conv2d(64, 128, 3, padding=1, stride=2)\n",
    "        self.batchnorm2 = nn.BatchNorm2d(128)\n",
    "        self.pool2 = nn.MaxPool2d(2, 2)\n",
    "        self.conv3 = nn.Conv2d(128, 256, 3, padding=1, stride=2)\n",
    "        self.batchnorm3 = nn.BatchNorm2d(256)\n",
    "        self.pool3 = nn.MaxPool2d(2, 2)\n",
    "        \n",
    "        self.fc1 = nn.Linear(256 * 2 *2, 512)\n",
    "        self.dropout = nn.Dropout(p=0.2)\n",
    "        self.fc2 = nn.Linear(512, 4)\n",
    "\n",
    "    def forward(self, x):\n",
    "        x = self.conv1(x)\n",
    "        x = self.batchnorm1(x)\n",
    "        x = F.relu(x)\n",
    "        x = self.pool1(x) #torch.Size([32, 64, 32, 32])\n",
    "        \n",
    "        x = self.conv2(x)\n",
    "        x = self.batchnorm2(x)\n",
    "        x = F.relu(x)\n",
    "        x = self.pool2(x) # torch.Size([32, 128, 8, 8])\n",
    "        \n",
    "        x = self.conv3(x)\n",
    "        x = self.batchnorm3(x)\n",
    "        x = F.relu(x)\n",
    "        x = self.pool3(x) # torch.Size([32, 256, 2, 2])\n",
    "        \n",
    "        x = torch.flatten(x,1)\n",
    "        x = F.relu(self.fc1(x))\n",
    "        x = self.dropout(x)\n",
    "        x = self.fc2(x)\n",
    "        return x\n"
   ]
  },
  {
   "cell_type": "code",
   "execution_count": 21,
   "metadata": {},
   "outputs": [],
   "source": [
    "batch_size=64\n",
    "train_iter=DataLoader(train_ds,batch_size, shuffle=True)\n",
    "valid_iter=DataLoader(valid_ds,batch_size, shuffle=True)\n",
    "test_iter=DataLoader(test_ds,batch_size, shuffle=True)"
   ]
  },
  {
   "cell_type": "code",
   "execution_count": 22,
   "metadata": {},
   "outputs": [],
   "source": [
    "# hyperparameters\n",
    "lr=0.01\n",
    "dropout=0.6"
   ]
  },
  {
   "cell_type": "code",
   "execution_count": 55,
   "metadata": {},
   "outputs": [],
   "source": [
    "def train(net,train_iter,valid_iter,optim,epoches,early_stop=False,name=None):\n",
    "    history_loss=dict()\n",
    "    history_acc=dict()\n",
    "    history_loss[\"val\"]=[]\n",
    "    history_loss[\"train\"]=[]\n",
    "        \n",
    "    history_acc[\"val\"]=[]\n",
    "    history_acc[\"train\"]=[]\n",
    "    best_acc=0\n",
    "    for epoch in range(epoches):\n",
    "        print(\"processing the {} epoch\".format(epoch))\n",
    "        epoch_start_time = time.time()\n",
    "        train_acc = []\n",
    "        train_loss = []\n",
    "        val_acc = []\n",
    "        val_loss = []\n",
    "        len_train=0\n",
    "        net.train()\n",
    "        for batch_x,batch_y in train_iter:\n",
    "#             print(batch_x.shape)\n",
    "#             print(batch_y.shape)\n",
    "            y_hat=net(batch_x)\n",
    "            l=loss(y_hat,batch_y)\n",
    "            optim.zero_grad()\n",
    "            l.backward()\n",
    "            optim.step()\n",
    "            train_acc.append(np.sum(np.argmax(y_hat.detach().numpy(),axis=1)==batch_y.detach().numpy()))\n",
    "            train_loss.append(l.item())\n",
    "#             print(\"finish {} batch in {} epoch\".format(i,epoch))\n",
    "            len_train+=batch_x.shape[0]\n",
    "        train_loss=np.sum(train_loss)/len_train\n",
    "        train_acc=np.sum(train_acc)/len_train\n",
    "        history_loss[\"train\"].append(train_loss)\n",
    "        history_acc[\"train\"].append(train_acc)\n",
    "        if valid_iter is not None:\n",
    "            #eval\n",
    "            net.eval()\n",
    "            len_val=0\n",
    "            with torch.no_grad():\n",
    "                for batch_x,batch_y in valid_iter:\n",
    "                    y_hat=net(batch_x)\n",
    "                    l=loss(y_hat,batch_y)\n",
    "                    val_acc.append(np.sum(np.argmax(y_hat.numpy(),axis=1)==batch_y.numpy()))\n",
    "                    val_loss.append(l.item())\n",
    "                    len_val+=batch_x.shape[0]\n",
    "\n",
    "            val_loss=np.sum(val_loss)/len_val\n",
    "            val_acc=np.sum(val_acc)/len_val\n",
    "            history_loss[\"val\"].append(val_loss)\n",
    "            history_acc[\"val\"].append(val_acc)\n",
    "            print('[%03d/%03d] %2.2f sec(s) Train Acc: %3.6f Loss: %3.6f | Val Acc: %3.6f loss: %3.6f' % \\\n",
    "                    (epoch + 1, epoches, time.time()-epoch_start_time, \\\n",
    "                     train_acc, train_loss, val_acc, val_loss))          \n",
    "        else:\n",
    "            print('[%03d/%03d] %2.2f sec(s) Train Acc: %3.6f Loss: %3.6f' % \\\n",
    "                    (epoch + 1, epoches, time.time()-epoch_start_time, \\\n",
    "                     train_acc, train_loss))\n",
    "        if name==None:\n",
    "            PATH = r'/Users/yanjiao/Downloads/BS6207-assignment4/Model/model_epoch_{}'.format(epoch)\n",
    "            #mkdir_if_not_exist(PATH)\n",
    "        else:\n",
    "            PATH = r'/Users/yanjiao/Downloads/BS6207-assignment4/Model/{}_epoch_{}'.format(name,epoch)\n",
    "           # mkdir_if_not_exist(PATH)\n",
    "        #PATH = os.path.join(PATH, 'checkpoint_model_epoch_{}.pth.tar'.format(epoch))\n",
    "            \n",
    "        #self-implement early stop\n",
    "        if early_stop==True:\n",
    "            if val_acc > best_acc:\n",
    "                best_acc = val_acc\n",
    "                es = 0\n",
    "                \n",
    "                torch.save(net.state_dict(), PATH)\n",
    "                print('Model saved at {}'.format(PATH))\n",
    "            else:\n",
    "                es += 1\n",
    "                print(\"Counter {} of 10\".format(es))\n",
    "            if es > 9:\n",
    "                print(\"Early stopping with best_acc: \", best_acc, \"and val_acc for this epoch: \", val_acc, \"...\")\n",
    "                break\n",
    "        else:\n",
    "            if epoch%2==0:\n",
    "                torch.save(net.state_dict(), PATH)\n",
    "                print('Model saved at {}'.format(PATH))\n",
    "            \n",
    "    return history_loss,history_acc"
   ]
  },
  {
   "cell_type": "code",
   "execution_count": 29,
   "metadata": {},
   "outputs": [],
   "source": [
    "model_normal=Net()\n",
    "optim=torch.optim.Adam(model_normal.parameters(),lr=lr)\n",
    "loss=nn.CrossEntropyLoss()"
   ]
  },
  {
   "cell_type": "code",
   "execution_count": 30,
   "metadata": {
    "scrolled": false
   },
   "outputs": [
    {
     "name": "stdout",
     "output_type": "stream",
     "text": [
      "processing the 0 epoch\n",
      "[001/030] 65.81 sec(s) Train Acc: 0.644976 Loss: 0.023802 | Val Acc: 0.602761 loss: 0.025095\n",
      "Model saved at /Users/yanjiao/Downloads/BS6207-assignment4/Model/model_normal_epoch_0/checkpoint_model_epoch_0.pth.tar\n",
      "processing the 1 epoch\n",
      "[002/030] 73.42 sec(s) Train Acc: 0.734928 Loss: 0.010778 | Val Acc: 0.717791 loss: 0.011722\n",
      "processing the 2 epoch\n",
      "[003/030] 73.10 sec(s) Train Acc: 0.773971 Loss: 0.009252 | Val Acc: 0.583589 loss: 0.017615\n",
      "Model saved at /Users/yanjiao/Downloads/BS6207-assignment4/Model/model_normal_epoch_2/checkpoint_model_epoch_2.pth.tar\n",
      "processing the 3 epoch\n",
      "[004/030] 77.35 sec(s) Train Acc: 0.800766 Loss: 0.008654 | Val Acc: 0.690951 loss: 0.034792\n",
      "processing the 4 epoch\n",
      "[005/030] 72.94 sec(s) Train Acc: 0.816268 Loss: 0.007962 | Val Acc: 0.756135 loss: 0.014178\n",
      "Model saved at /Users/yanjiao/Downloads/BS6207-assignment4/Model/model_normal_epoch_4/checkpoint_model_epoch_4.pth.tar\n",
      "processing the 5 epoch\n",
      "[006/030] 71.54 sec(s) Train Acc: 0.843062 Loss: 0.007052 | Val Acc: 0.674847 loss: 0.017714\n",
      "processing the 6 epoch\n",
      "[007/030] 71.72 sec(s) Train Acc: 0.855120 Loss: 0.006459 | Val Acc: 0.500000 loss: 0.023997\n",
      "Model saved at /Users/yanjiao/Downloads/BS6207-assignment4/Model/model_normal_epoch_6/checkpoint_model_epoch_6.pth.tar\n",
      "processing the 7 epoch\n",
      "[008/030] 73.60 sec(s) Train Acc: 0.843445 Loss: 0.006841 | Val Acc: 0.838190 loss: 0.007374\n",
      "processing the 8 epoch\n",
      "[009/030] 73.42 sec(s) Train Acc: 0.860096 Loss: 0.006357 | Val Acc: 0.898773 loss: 0.005880\n",
      "Model saved at /Users/yanjiao/Downloads/BS6207-assignment4/Model/model_normal_epoch_8/checkpoint_model_epoch_8.pth.tar\n",
      "processing the 9 epoch\n",
      "[010/030] 71.65 sec(s) Train Acc: 0.881148 Loss: 0.005633 | Val Acc: 0.924080 loss: 0.004452\n",
      "processing the 10 epoch\n",
      "[011/030] 74.05 sec(s) Train Acc: 0.877129 Loss: 0.005670 | Val Acc: 0.947086 loss: 0.003098\n",
      "Model saved at /Users/yanjiao/Downloads/BS6207-assignment4/Model/model_normal_epoch_10/checkpoint_model_epoch_10.pth.tar\n",
      "processing the 11 epoch\n",
      "[012/030] 80.45 sec(s) Train Acc: 0.894737 Loss: 0.005143 | Val Acc: 0.826687 loss: 0.007357\n",
      "processing the 12 epoch\n",
      "[013/030] 68.86 sec(s) Train Acc: 0.899904 Loss: 0.004851 | Val Acc: 0.885736 loss: 0.005645\n",
      "Model saved at /Users/yanjiao/Downloads/BS6207-assignment4/Model/model_normal_epoch_12/checkpoint_model_epoch_12.pth.tar\n",
      "processing the 13 epoch\n",
      "[014/030] 73.44 sec(s) Train Acc: 0.897033 Loss: 0.004746 | Val Acc: 0.726227 loss: 0.009989\n",
      "processing the 14 epoch\n",
      "[015/030] 70.35 sec(s) Train Acc: 0.912153 Loss: 0.003966 | Val Acc: 0.700153 loss: 0.009533\n",
      "Model saved at /Users/yanjiao/Downloads/BS6207-assignment4/Model/model_normal_epoch_14/checkpoint_model_epoch_14.pth.tar\n",
      "processing the 15 epoch\n",
      "[016/030] 71.26 sec(s) Train Acc: 0.905837 Loss: 0.004348 | Val Acc: 0.809049 loss: 0.012523\n",
      "processing the 16 epoch\n",
      "[017/030] 67.95 sec(s) Train Acc: 0.910239 Loss: 0.004109 | Val Acc: 0.819785 loss: 0.009386\n",
      "Model saved at /Users/yanjiao/Downloads/BS6207-assignment4/Model/model_normal_epoch_16/checkpoint_model_epoch_16.pth.tar\n",
      "processing the 17 epoch\n",
      "[018/030] 75.44 sec(s) Train Acc: 0.910622 Loss: 0.004162 | Val Acc: 0.410276 loss: 0.027406\n",
      "processing the 18 epoch\n",
      "[019/030] 70.69 sec(s) Train Acc: 0.920766 Loss: 0.003829 | Val Acc: 0.830521 loss: 0.007190\n",
      "Model saved at /Users/yanjiao/Downloads/BS6207-assignment4/Model/model_normal_epoch_18/checkpoint_model_epoch_18.pth.tar\n",
      "processing the 19 epoch\n",
      "[020/030] 73.99 sec(s) Train Acc: 0.917703 Loss: 0.003810 | Val Acc: 0.897239 loss: 0.005165\n",
      "processing the 20 epoch\n",
      "[021/030] 70.16 sec(s) Train Acc: 0.917512 Loss: 0.003805 | Val Acc: 0.836656 loss: 0.007011\n",
      "Model saved at /Users/yanjiao/Downloads/BS6207-assignment4/Model/model_normal_epoch_20/checkpoint_model_epoch_20.pth.tar\n",
      "processing the 21 epoch\n",
      "[022/030] 70.38 sec(s) Train Acc: 0.919234 Loss: 0.003602 | Val Acc: 0.914877 loss: 0.004108\n",
      "processing the 22 epoch\n",
      "[023/030] 80.05 sec(s) Train Acc: 0.924211 Loss: 0.003507 | Val Acc: 0.856595 loss: 0.007009\n",
      "Model saved at /Users/yanjiao/Downloads/BS6207-assignment4/Model/model_normal_epoch_22/checkpoint_model_epoch_22.pth.tar\n",
      "processing the 23 epoch\n",
      "[024/030] 84.33 sec(s) Train Acc: 0.924976 Loss: 0.003377 | Val Acc: 0.929448 loss: 0.003231\n",
      "processing the 24 epoch\n",
      "[025/030] 77.59 sec(s) Train Acc: 0.911005 Loss: 0.003772 | Val Acc: 0.947853 loss: 0.002670\n",
      "Model saved at /Users/yanjiao/Downloads/BS6207-assignment4/Model/model_normal_epoch_24/checkpoint_model_epoch_24.pth.tar\n",
      "processing the 25 epoch\n",
      "[026/030] 77.08 sec(s) Train Acc: 0.929569 Loss: 0.003340 | Val Acc: 0.927914 loss: 0.004219\n",
      "processing the 26 epoch\n",
      "[027/030] 70.13 sec(s) Train Acc: 0.929952 Loss: 0.003259 | Val Acc: 0.850460 loss: 0.008057\n",
      "Model saved at /Users/yanjiao/Downloads/BS6207-assignment4/Model/model_normal_epoch_26/checkpoint_model_epoch_26.pth.tar\n",
      "processing the 27 epoch\n",
      "[028/030] 67.10 sec(s) Train Acc: 0.926890 Loss: 0.003198 | Val Acc: 0.522239 loss: 0.032588\n",
      "processing the 28 epoch\n",
      "[029/030] 71.42 sec(s) Train Acc: 0.925550 Loss: 0.003361 | Val Acc: 0.926380 loss: 0.003628\n",
      "Model saved at /Users/yanjiao/Downloads/BS6207-assignment4/Model/model_normal_epoch_28/checkpoint_model_epoch_28.pth.tar\n",
      "processing the 29 epoch\n",
      "[030/030] 74.20 sec(s) Train Acc: 0.936459 Loss: 0.002992 | Val Acc: 0.904141 loss: 0.004893\n"
     ]
    }
   ],
   "source": [
    "his_loss,his_acc=train(model_normal,train_iter,valid_iter,optim,30,early_stop=False, name=\"model_normal\")"
   ]
  },
  {
   "cell_type": "code",
   "execution_count": 31,
   "metadata": {},
   "outputs": [],
   "source": [
    "def test(net,test_iter):\n",
    "    \n",
    "    for epoch in range(1):\n",
    "        print(\"processing the {} epoch\".format(epoch))\n",
    "        epoch_start_time = time.time()\n",
    "        #eval\n",
    "        net.eval()\n",
    "        test_acc=[]\n",
    "        test_loss=[]\n",
    "        len_test=0\n",
    "        with torch.no_grad():\n",
    "            for batch_x,batch_y in test_iter:\n",
    "                y_hat=net(batch_x)\n",
    "                l=loss(y_hat,batch_y)\n",
    "                test_acc.append(np.sum(np.argmax(y_hat.numpy(),axis=1)==batch_y.numpy()))\n",
    "                test_loss.append(l.item())\n",
    "                len_test+=batch_x.shape[0]\n",
    "            \n",
    "        test_loss=np.sum(test_loss)/len_test\n",
    "        test_acc=np.sum(test_acc)/len_test\n",
    "        print('[%03d/%03d] %2.2f sec(s) Test Acc: %3.6f Loss: %3.6f' % \\\n",
    "                (epoch + 1, 1, time.time()-epoch_start_time, \\\n",
    "                 test_acc, test_loss))"
   ]
  },
  {
   "cell_type": "code",
   "execution_count": null,
   "metadata": {},
   "outputs": [],
   "source": []
  },
  {
   "cell_type": "code",
   "execution_count": 35,
   "metadata": {},
   "outputs": [],
   "source": [
    "train_acc_normal  = his_acc[ 'train']\n",
    "val_acc_normal=his_acc[ 'val']"
   ]
  },
  {
   "cell_type": "code",
   "execution_count": 36,
   "metadata": {},
   "outputs": [
    {
     "data": {
      "text/plain": [
       "[<matplotlib.lines.Line2D at 0x1a24e418d0>]"
      ]
     },
     "execution_count": 36,
     "metadata": {},
     "output_type": "execute_result"
    },
    {
     "data": {
      "image/png": "[encoded data removed]",
      "text/plain": [
       "<Figure size 432x288 with 1 Axes>"
      ]
     },
     "metadata": {
      "needs_background": "light"
     },
     "output_type": "display_data"
    }
   ],
   "source": [
    "plt.plot(train_acc_normal)\n",
    "plt.plot(val_acc_normal)"
   ]
  },
  {
   "cell_type": "code",
   "execution_count": null,
   "metadata": {},
   "outputs": [],
   "source": [
    "path=r'/Users/yanjiao/Downloads/BS6207-assignment4/Model/model_normal_epoch_26/checkpoint_model_epoch_26.pth.tar'\n",
    "\n",
    "model_normal=CNNModel_pool_normal()\n",
    "checkpoint = torch.load(path)\n",
    "\n",
    "state_dict  = checkpoint['state_dict']\n",
    "model_normal.load_state_dict(state_dict)\n",
    "#model_normal=CNNModel_pool_normal()\n",
    "#model_normal.load_state_dict(torch.load(path))\n",
    "test(model_normal,test_iter)"
   ]
  },
  {
   "cell_type": "code",
   "execution_count": null,
   "metadata": {},
   "outputs": [],
   "source": []
  },
  {
   "cell_type": "code",
   "execution_count": 58,
   "metadata": {},
   "outputs": [
    {
     "name": "stdout",
     "output_type": "stream",
     "text": [
      "processing the 0 epoch\n",
      "[001/013] 76.76 sec(s) Train Acc: 0.467560 Loss: 0.445882 | Val Acc: 0.473160 loss: 0.018793\n",
      "Model saved at /Users/yanjiao/Downloads/BS6207-assignment4/Model/model_normal_learningrate_0.1_epoch_0\n",
      "processing the 1 epoch\n",
      "[002/013] 74.62 sec(s) Train Acc: 0.452440 Loss: 0.018559 | Val Acc: 0.450920 loss: 0.018962\n",
      "Counter 1 of 10\n",
      "processing the 2 epoch\n",
      "[003/013] 72.13 sec(s) Train Acc: 0.530718 Loss: 0.017820 | Val Acc: 0.458589 loss: 0.019100\n",
      "Counter 2 of 10\n",
      "processing the 3 epoch\n",
      "[004/013] 72.93 sec(s) Train Acc: 0.611292 Loss: 0.015908 | Val Acc: 0.740031 loss: 0.012064\n",
      "Model saved at /Users/yanjiao/Downloads/BS6207-assignment4/Model/model_normal_learningrate_0.1_epoch_3\n",
      "processing the 4 epoch\n",
      "[005/013] 75.72 sec(s) Train Acc: 0.682297 Loss: 0.013636 | Val Acc: 0.740798 loss: 0.011338\n",
      "Model saved at /Users/yanjiao/Downloads/BS6207-assignment4/Model/model_normal_learningrate_0.1_epoch_4\n",
      "processing the 5 epoch\n",
      "[006/013] 77.89 sec(s) Train Acc: 0.682679 Loss: 0.013736 | Val Acc: 0.714724 loss: 0.012956\n",
      "Counter 1 of 10\n",
      "processing the 6 epoch\n",
      "[007/013] 78.38 sec(s) Train Acc: 0.687273 Loss: 0.013522 | Val Acc: 0.680982 loss: 0.013680\n",
      "Counter 2 of 10\n",
      "processing the 7 epoch\n",
      "[008/013] 73.82 sec(s) Train Acc: 0.697033 Loss: 0.013094 | Val Acc: 0.730061 loss: 0.011561\n",
      "Counter 3 of 10\n",
      "processing the 8 epoch\n",
      "[009/013] 77.24 sec(s) Train Acc: 0.701435 Loss: 0.012738 | Val Acc: 0.737730 loss: 0.011329\n",
      "Counter 4 of 10\n",
      "processing the 9 epoch\n",
      "[010/013] 75.29 sec(s) Train Acc: 0.703541 Loss: 0.012454 | Val Acc: 0.743865 loss: 0.011064\n",
      "Model saved at /Users/yanjiao/Downloads/BS6207-assignment4/Model/model_normal_learningrate_0.1_epoch_9\n",
      "processing the 10 epoch\n",
      "[011/013] 76.46 sec(s) Train Acc: 0.700287 Loss: 0.012621 | Val Acc: 0.704755 loss: 0.012404\n",
      "Counter 1 of 10\n",
      "processing the 11 epoch\n",
      "[012/013] 69.77 sec(s) Train Acc: 0.714258 Loss: 0.012036 | Val Acc: 0.742331 loss: 0.010944\n",
      "Counter 2 of 10\n",
      "processing the 12 epoch\n",
      "[013/013] 71.29 sec(s) Train Acc: 0.710813 Loss: 0.012290 | Val Acc: 0.750767 loss: 0.010615\n",
      "Model saved at /Users/yanjiao/Downloads/BS6207-assignment4/Model/model_normal_learningrate_0.1_epoch_12\n",
      "Finish the learning rate 0.1\n",
      "__________\n",
      "processing the 0 epoch\n",
      "[001/013] 70.18 sec(s) Train Acc: 0.728230 Loss: 0.011179 | Val Acc: 0.750767 loss: 0.010286\n",
      "Model saved at /Users/yanjiao/Downloads/BS6207-assignment4/Model/model_normal_learningrate_0.001_epoch_0\n",
      "processing the 1 epoch\n",
      "[002/013] 70.26 sec(s) Train Acc: 0.819522 Loss: 0.007565 | Val Acc: 0.790644 loss: 0.008157\n",
      "Model saved at /Users/yanjiao/Downloads/BS6207-assignment4/Model/model_normal_learningrate_0.001_epoch_1\n",
      "processing the 2 epoch\n",
      "[003/013] 67.66 sec(s) Train Acc: 0.860670 Loss: 0.006005 | Val Acc: 0.724693 loss: 0.027394\n",
      "Counter 1 of 10\n",
      "processing the 3 epoch\n",
      "[004/013] 59.99 sec(s) Train Acc: 0.872153 Loss: 0.005580 | Val Acc: 0.876534 loss: 0.005100\n",
      "Model saved at /Users/yanjiao/Downloads/BS6207-assignment4/Model/model_normal_learningrate_0.001_epoch_3\n",
      "processing the 4 epoch\n",
      "[005/013] 59.22 sec(s) Train Acc: 0.894354 Loss: 0.004588 | Val Acc: 0.859663 loss: 0.006794\n",
      "Counter 1 of 10\n",
      "processing the 5 epoch\n",
      "[006/013] 58.24 sec(s) Train Acc: 0.897608 Loss: 0.004357 | Val Acc: 0.881135 loss: 0.006009\n",
      "Model saved at /Users/yanjiao/Downloads/BS6207-assignment4/Model/model_normal_learningrate_0.001_epoch_5\n",
      "processing the 6 epoch\n",
      "[007/013] 58.75 sec(s) Train Acc: 0.897033 Loss: 0.004316 | Val Acc: 0.839724 loss: 0.007134\n",
      "Counter 1 of 10\n",
      "processing the 7 epoch\n",
      "[008/013] 59.82 sec(s) Train Acc: 0.906220 Loss: 0.003965 | Val Acc: 0.851994 loss: 0.007574\n",
      "Counter 2 of 10\n",
      "processing the 8 epoch\n",
      "[009/013] 65.90 sec(s) Train Acc: 0.910239 Loss: 0.004012 | Val Acc: 0.927147 loss: 0.003349\n",
      "Model saved at /Users/yanjiao/Downloads/BS6207-assignment4/Model/model_normal_learningrate_0.001_epoch_8\n",
      "processing the 9 epoch\n",
      "[010/013] 67.83 sec(s) Train Acc: 0.913684 Loss: 0.003573 | Val Acc: 0.719325 loss: 0.011907\n",
      "Counter 1 of 10\n",
      "processing the 10 epoch\n",
      "[011/013] 60.13 sec(s) Train Acc: 0.917703 Loss: 0.003408 | Val Acc: 0.715491 loss: 0.011350\n",
      "Counter 2 of 10\n",
      "processing the 11 epoch\n",
      "[012/013] 64.49 sec(s) Train Acc: 0.927847 Loss: 0.003339 | Val Acc: 0.936350 loss: 0.002968\n",
      "Model saved at /Users/yanjiao/Downloads/BS6207-assignment4/Model/model_normal_learningrate_0.001_epoch_11\n",
      "processing the 12 epoch\n",
      "[013/013] 59.99 sec(s) Train Acc: 0.920191 Loss: 0.003534 | Val Acc: 0.808282 loss: 0.010891\n",
      "Counter 1 of 10\n",
      "Finish the learning rate 0.001\n",
      "__________\n",
      "processing the 0 epoch\n",
      "[001/013] 59.66 sec(s) Train Acc: 0.695885 Loss: 0.011953 | Val Acc: 0.806748 loss: 0.008445\n",
      "Model saved at /Users/yanjiao/Downloads/BS6207-assignment4/Model/model_normal_learningrate_0.0001_epoch_0\n",
      "processing the 1 epoch\n",
      "[002/013] 58.98 sec(s) Train Acc: 0.776651 Loss: 0.008920 | Val Acc: 0.789110 loss: 0.007756\n",
      "Counter 1 of 10\n",
      "processing the 2 epoch\n",
      "[003/013] 59.90 sec(s) Train Acc: 0.815311 Loss: 0.007741 | Val Acc: 0.801380 loss: 0.007329\n",
      "Counter 2 of 10\n",
      "processing the 3 epoch\n",
      "[004/013] 59.80 sec(s) Train Acc: 0.837703 Loss: 0.006969 | Val Acc: 0.907975 loss: 0.005228\n",
      "Model saved at /Users/yanjiao/Downloads/BS6207-assignment4/Model/model_normal_learningrate_0.0001_epoch_3\n",
      "processing the 4 epoch\n",
      "[005/013] 59.27 sec(s) Train Acc: 0.853206 Loss: 0.006199 | Val Acc: 0.892638 loss: 0.004500\n",
      "Counter 1 of 10\n",
      "processing the 5 epoch\n",
      "[006/013] 59.17 sec(s) Train Acc: 0.869282 Loss: 0.005635 | Val Acc: 0.884202 loss: 0.004571\n",
      "Counter 2 of 10\n",
      "processing the 6 epoch\n",
      "[007/013] 58.20 sec(s) Train Acc: 0.875981 Loss: 0.005243 | Val Acc: 0.920245 loss: 0.004093\n",
      "Model saved at /Users/yanjiao/Downloads/BS6207-assignment4/Model/model_normal_learningrate_0.0001_epoch_6\n",
      "processing the 7 epoch\n",
      "[008/013] 58.13 sec(s) Train Acc: 0.893206 Loss: 0.004759 | Val Acc: 0.832822 loss: 0.006750\n",
      "Counter 1 of 10\n",
      "processing the 8 epoch\n",
      "[009/013] 58.24 sec(s) Train Acc: 0.895120 Loss: 0.004461 | Val Acc: 0.840491 loss: 0.007210\n",
      "Counter 2 of 10\n",
      "processing the 9 epoch\n",
      "[010/013] 57.66 sec(s) Train Acc: 0.899904 Loss: 0.004303 | Val Acc: 0.891871 loss: 0.004261\n",
      "Counter 3 of 10\n",
      "processing the 10 epoch\n",
      "[011/013] 58.69 sec(s) Train Acc: 0.903732 Loss: 0.004225 | Val Acc: 0.829755 loss: 0.007276\n",
      "Counter 4 of 10\n",
      "processing the 11 epoch\n",
      "[012/013] 57.75 sec(s) Train Acc: 0.905072 Loss: 0.004184 | Val Acc: 0.892638 loss: 0.004956\n",
      "Counter 5 of 10\n",
      "processing the 12 epoch\n",
      "[013/013] 58.08 sec(s) Train Acc: 0.906029 Loss: 0.004045 | Val Acc: 0.889571 loss: 0.004693\n",
      "Counter 6 of 10\n",
      "Finish the learning rate 0.0001\n",
      "__________\n"
     ]
    }
   ],
   "source": [
    "# tuning Learning rate\n",
    "lr=[0.1,0.001,0.0001]\n",
    "history=[]\n",
    "for i in lr:\n",
    "    loss=nn.CrossEntropyLoss()\n",
    "    model_normal=Net()\n",
    "    optim=torch.optim.Adam(model_normal.parameters(),lr=i)\n",
    "    his_loss,his_acc=train(model_normal,train_iter,valid_iter,optim,13,early_stop=True,name=\"model_normal_learningrate_{}\".format(i))\n",
    "    history.append((his_loss,his_acc,model_normal,optim))\n",
    "    print(\"Finish the learning rate {}\".format(i))\n",
    "    print(\"_\"*10)"
   ]
  },
  {
   "cell_type": "code",
   "execution_count": 59,
   "metadata": {},
   "outputs": [
    {
     "data": {
      "text/plain": [
       "<matplotlib.legend.Legend at 0x1a2656b290>"
      ]
     },
     "execution_count": 59,
     "metadata": {},
     "output_type": "execute_result"
    },
    {
     "data": {
      "image/png": "[encoded data removed]",
      "text/plain": [
       "<Figure size 432x288 with 1 Axes>"
      ]
     },
     "metadata": {
      "needs_background": "light"
     },
     "output_type": "display_data"
    }
   ],
   "source": [
    "plt.plot(history[0][1][\"val\"])\n",
    "plt.plot(val_acc_normal)\n",
    "plt.plot(history[1][1][\"val\"])\n",
    "plt.plot(history[2][1][\"val\"])\n",
    "plt.legend([0.1,0.01,0.001,0.0001])"
   ]
  },
  {
   "cell_type": "code",
   "execution_count": 60,
   "metadata": {},
   "outputs": [
    {
     "data": {
      "text/plain": [
       "<matplotlib.legend.Legend at 0x1a26226150>"
      ]
     },
     "execution_count": 60,
     "metadata": {},
     "output_type": "execute_result"
    },
    {
     "data": {
      "image/png": "[encoded data removed]",
      "text/plain": [
       "<Figure size 432x288 with 1 Axes>"
      ]
     },
     "metadata": {
      "needs_background": "light"
     },
     "output_type": "display_data"
    }
   ],
   "source": [
    "plt.plot(history[0][1][\"train\"])\n",
    "plt.plot(train_acc_normal)\n",
    "plt.plot(history[1][1][\"train\"])\n",
    "plt.plot(history[2][1][\"train\"])\n",
    "plt.legend([0.1,0.01,0.001,0.0001])"
   ]
  },
  {
   "cell_type": "code",
   "execution_count": null,
   "metadata": {},
   "outputs": [],
   "source": [
    "PATH =r'/Users/yanjiao/Downloads/BS6207-assignment4/Model/{}_lr_{}.txt'.format(\"model_normal\",str(0.001))\n",
    "torch.save(history[1][2].state_dict(),PATH)"
   ]
  },
  {
   "cell_type": "code",
   "execution_count": null,
   "metadata": {},
   "outputs": [],
   "source": [
    "test(history[1][2],test_iter)"
   ]
  }
 ],
 "metadata": {
  "kernelspec": {
   "display_name": "Python 3",
   "language": "python",
   "name": "python3"
  },
  "language_info": {
   "codemirror_mode": {
    "name": "ipython",
    "version": 3
   },
   "file_extension": ".py",
   "mimetype": "text/x-python",
   "name": "python",
   "nbconvert_exporter": "python",
   "pygments_lexer": "ipython3",
   "version": "3.7.4"
  }
 },
 "nbformat": 4,
 "nbformat_minor": 2
}
